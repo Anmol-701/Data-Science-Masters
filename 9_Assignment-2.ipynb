{
 "cells": [
  {
   "cell_type": "markdown",
   "id": "d73791db-b97f-4743-9167-f54216e52018",
   "metadata": {},
   "source": [
    "## Assignment-2"
   ]
  },
  {
   "cell_type": "markdown",
   "id": "d4a07093-c193-4186-a6e2-35930c6d9598",
   "metadata": {},
   "source": [
    "## Problem_1: How do you comment code in Python? What are the different types of comments?"
   ]
  },
  {
   "cell_type": "code",
   "execution_count": null,
   "id": "424aba7a-18fa-4146-9050-b6b690442afe",
   "metadata": {},
   "outputs": [],
   "source": [
    "## we can use '#' to comment code in python\n",
    "# - There are two types of comments in python:\n",
    "#    - Single line comment '#'\n",
    "#    - Multi Line comment  ''' '''"
   ]
  },
  {
   "cell_type": "markdown",
   "id": "3cd35c01-b6a3-4e9d-8439-4f205d81517e",
   "metadata": {},
   "source": [
    "### Problem_2 : What are variable in Python? How do you declare and assign values to variables?\n"
   ]
  },
  {
   "cell_type": "code",
   "execution_count": 13,
   "id": "738ab4ad-de54-494f-8165-347690e67fbe",
   "metadata": {},
   "outputs": [
    {
     "data": {
      "text/plain": [
       "2"
      ]
     },
     "execution_count": 13,
     "metadata": {},
     "output_type": "execute_result"
    }
   ],
   "source": [
    "## Variables are like container which are used to store values . we can declare a variable by:\n",
    "a = 2  ##-- Assigning to it.\n",
    "a"
   ]
  },
  {
   "cell_type": "markdown",
   "id": "b57f0d16-1cfe-4985-9e9f-9618dc0d35bb",
   "metadata": {
    "tags": []
   },
   "source": [
    "### Problem_3: How do you convert one data type to another in python?"
   ]
  },
  {
   "cell_type": "code",
   "execution_count": 2,
   "id": "7beab908-d3fb-473b-b2b2-bd609723be01",
   "metadata": {},
   "outputs": [
    {
     "data": {
      "text/plain": [
       "int"
      ]
     },
     "execution_count": 2,
     "metadata": {},
     "output_type": "execute_result"
    }
   ],
   "source": [
    "## Lets suppose i declared a variable of int datatype \n",
    "a= 5\n",
    "type(a)"
   ]
  },
  {
   "cell_type": "code",
   "execution_count": 8,
   "id": "d1bc050e-92ef-4cf8-8716-c0e351d3fa88",
   "metadata": {},
   "outputs": [
    {
     "data": {
      "text/plain": [
       "'5'"
      ]
     },
     "execution_count": 8,
     "metadata": {},
     "output_type": "execute_result"
    }
   ],
   "source": [
    "## Here i'm converting it to string data type and store it to the variable 'b'\n",
    "b=str(a)\n",
    "b"
   ]
  },
  {
   "cell_type": "code",
   "execution_count": 9,
   "id": "baf64581-7163-48f9-895f-55d0ae41ed63",
   "metadata": {},
   "outputs": [
    {
     "data": {
      "text/plain": [
       "str"
      ]
     },
     "execution_count": 9,
     "metadata": {},
     "output_type": "execute_result"
    }
   ],
   "source": [
    "type(b)"
   ]
  },
  {
   "cell_type": "markdown",
   "id": "bd931b4b-dbea-483d-b338-3a73ed20fe02",
   "metadata": {},
   "source": [
    "### Problem_4: How do you write and execute a python script from the command line?"
   ]
  },
  {
   "cell_type": "code",
   "execution_count": 11,
   "id": "c8e048a6-e4bd-4a23-9ae6-e56e0360deb4",
   "metadata": {},
   "outputs": [
    {
     "data": {
      "text/plain": [
       "\" 1_Firstly we have to create a file of .py extention (eg:home.py) in any IDE like vscode or PyCharm\\n    2_Then we have to save that file let's suppose in desktop and then we have to open command prompt if we are in window\\n    3_Then we will write cd desktop to navigate the file.\\n    4_ Once we are in right directory then we will write python home.py to execute our code\\n\""
      ]
     },
     "execution_count": 11,
     "metadata": {},
     "output_type": "execute_result"
    }
   ],
   "source": [
    "''' 1_Firstly we have to create a file of .py extention (eg:home.py) in any IDE like vscode or PyCharm\n",
    "    2_Then we have to save that file let's suppose in desktop and then we have to open command prompt if we are in window\n",
    "    3_Then we will write cd desktop to navigate the file.\n",
    "    4_ Once we are in right directory then we will write python home.py to execute our code\n",
    "'''"
   ]
  },
  {
   "cell_type": "markdown",
   "id": "86d14666-4523-4cd7-b58f-9a230ca4784d",
   "metadata": {},
   "source": [
    "### Problem_5: Given a list my_list=[1,2,3,4,5],write the code to slice the list and obtain the sub-list[2,3]."
   ]
  },
  {
   "cell_type": "code",
   "execution_count": 3,
   "id": "3219fcf2-5f33-4698-af85-4a1f929dd085",
   "metadata": {},
   "outputs": [
    {
     "data": {
      "text/plain": [
       "[2, 3]"
      ]
     },
     "execution_count": 3,
     "metadata": {},
     "output_type": "execute_result"
    }
   ],
   "source": [
    "my_list=[1,2,3,4,5]\n",
    "my_list[1:3]"
   ]
  },
  {
   "cell_type": "markdown",
   "id": "c5947597-7d0c-4b1d-b2b6-bfadcd527443",
   "metadata": {},
   "source": [
    "### Problem_6: What is a complex number in mathematics, and how is it represented in python?"
   ]
  },
  {
   "cell_type": "code",
   "execution_count": 11,
   "id": "be0d7844-9d39-405c-b744-648f88b13b24",
   "metadata": {},
   "outputs": [
    {
     "data": {
      "text/plain": [
       "complex"
      ]
     },
     "execution_count": 11,
     "metadata": {},
     "output_type": "execute_result"
    }
   ],
   "source": [
    "## Complex number are those which contain real and imaginary number\n",
    "var = 5+3j\n",
    "type(var)"
   ]
  },
  {
   "cell_type": "markdown",
   "id": "d24da4c6-e059-48cb-b785-dfb01a5374c3",
   "metadata": {},
   "source": [
    "### Problem_7: what is the correct way to declare a variable named age and assign the value 25 to it?"
   ]
  },
  {
   "cell_type": "code",
   "execution_count": 16,
   "id": "754173ff-90b9-44fe-97e2-6333bfe90346",
   "metadata": {},
   "outputs": [
    {
     "data": {
      "text/plain": [
       "25"
      ]
     },
     "execution_count": 16,
     "metadata": {},
     "output_type": "execute_result"
    }
   ],
   "source": [
    "age =25\n",
    "age"
   ]
  },
  {
   "cell_type": "markdown",
   "id": "07608350-12bb-45ad-98a4-a010fa51f4a9",
   "metadata": {},
   "source": [
    "### Problem_8: Declare a variable named price and assign the value 9.99 to it. What data type does this variable belong to?"
   ]
  },
  {
   "cell_type": "code",
   "execution_count": 17,
   "id": "6f0dc33f-1d79-476a-a56c-190b5c3b73ce",
   "metadata": {},
   "outputs": [
    {
     "data": {
      "text/plain": [
       "float"
      ]
     },
     "execution_count": 17,
     "metadata": {},
     "output_type": "execute_result"
    }
   ],
   "source": [
    "price=9.99\n",
    "type(price) ## -- This variable is of float type"
   ]
  },
  {
   "cell_type": "markdown",
   "id": "8e7120e4-e168-4f1a-ad74-513c59f1550a",
   "metadata": {},
   "source": [
    "### Problem_9: Create a variable named name and assign your full name to it as a string. How would you print the value of this variable?"
   ]
  },
  {
   "cell_type": "code",
   "execution_count": 18,
   "id": "4352c69a-1c4d-48bb-8d2e-a892f0a55b7d",
   "metadata": {},
   "outputs": [
    {
     "name": "stdout",
     "output_type": "stream",
     "text": [
      "Anmol\n"
     ]
    }
   ],
   "source": [
    "name = 'Anmol'\n",
    "print(name)"
   ]
  },
  {
   "cell_type": "markdown",
   "id": "49d6c6e8-c86a-4055-923f-6b77532d1e15",
   "metadata": {},
   "source": [
    "### Problem_10: Given the string \"Hello,World!\", extract the substring \"world\".\n"
   ]
  },
  {
   "cell_type": "code",
   "execution_count": 19,
   "id": "ade08bbb-e606-437e-9dcb-5634e90c0ff0",
   "metadata": {},
   "outputs": [
    {
     "data": {
      "text/plain": [
       "'World'"
      ]
     },
     "execution_count": 19,
     "metadata": {},
     "output_type": "execute_result"
    }
   ],
   "source": [
    "var= \"Hello,World!\"\n",
    "var[6:11] ## -- we can use slicing method of string to extract the substring\n"
   ]
  },
  {
   "cell_type": "markdown",
   "id": "731e6717-fafd-455e-958a-65470de4755d",
   "metadata": {},
   "source": [
    "### Problem_11: Create a variable named \"is_student\" and assign it a boolean value indicating whether you are currently a student or not."
   ]
  },
  {
   "cell_type": "code",
   "execution_count": 20,
   "id": "6da9ae80-780e-484e-8736-1168c3ed50f4",
   "metadata": {},
   "outputs": [
    {
     "data": {
      "text/plain": [
       "True"
      ]
     },
     "execution_count": 20,
     "metadata": {},
     "output_type": "execute_result"
    }
   ],
   "source": [
    "is_student = True\n",
    "is_student"
   ]
  },
  {
   "cell_type": "code",
   "execution_count": null,
   "id": "c81edb23-1420-47eb-a13e-ccfb944fca35",
   "metadata": {},
   "outputs": [],
   "source": []
  }
 ],
 "metadata": {
  "kernelspec": {
   "display_name": "Python 3 (ipykernel)",
   "language": "python",
   "name": "python3"
  },
  "language_info": {
   "codemirror_mode": {
    "name": "ipython",
    "version": 3
   },
   "file_extension": ".py",
   "mimetype": "text/x-python",
   "name": "python",
   "nbconvert_exporter": "python",
   "pygments_lexer": "ipython3",
   "version": "3.10.8"
  }
 },
 "nbformat": 4,
 "nbformat_minor": 5
}
