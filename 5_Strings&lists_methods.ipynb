{
 "cells": [
  {
   "cell_type": "markdown",
   "id": "cd6fc587-ee8c-4481-8b71-3697516309e0",
   "metadata": {},
   "source": [
    "## String_Methods:"
   ]
  },
  {
   "cell_type": "code",
   "execution_count": 1,
   "id": "cc904c04-a77b-4d5f-bc28-e8688d0a237d",
   "metadata": {},
   "outputs": [
    {
     "data": {
      "text/plain": [
       "['l', 'o', 'm', 'n', 'A']"
      ]
     },
     "execution_count": 1,
     "metadata": {},
     "output_type": "execute_result"
    }
   ],
   "source": [
    "a= \"Anmol\"\n",
    "list(reversed(a)) ##--Here i reversed a string using reversed() and store it to the list."
   ]
  },
  {
   "cell_type": "code",
   "execution_count": 2,
   "id": "98a3d290-9452-4a3c-ab5b-7cd5ec139612",
   "metadata": {},
   "outputs": [
    {
     "data": {
      "text/plain": [
       "'Arnrmrorl'"
      ]
     },
     "execution_count": 2,
     "metadata": {},
     "output_type": "execute_result"
    }
   ],
   "source": [
    "b= \"Anmol\"\n",
    "\"r\".join(b) #--using join() I joined r after every character of the string b"
   ]
  },
  {
   "cell_type": "code",
   "execution_count": 3,
   "id": "50059ba7-87ea-413c-a486-ef50671378bf",
   "metadata": {},
   "outputs": [],
   "source": [
    "##Removing Character from the end of the string"
   ]
  },
  {
   "cell_type": "code",
   "execution_count": 5,
   "id": "5c257af8-1085-4ca0-a767-dbb7a44fc62d",
   "metadata": {},
   "outputs": [
    {
     "data": {
      "text/plain": [
       "'Anmol'"
      ]
     },
     "execution_count": 5,
     "metadata": {},
     "output_type": "execute_result"
    }
   ],
   "source": [
    "string_a =\" Anmol \"\n",
    "string_a.strip(\" \")"
   ]
  },
  {
   "cell_type": "code",
   "execution_count": 7,
   "id": "bb48b3e5-fd15-4b8c-af57-e389499c9d5f",
   "metadata": {},
   "outputs": [
    {
     "data": {
      "text/plain": [
       "'Anmol '"
      ]
     },
     "execution_count": 7,
     "metadata": {},
     "output_type": "execute_result"
    }
   ],
   "source": [
    "string_a.lstrip(\" \") #--Remove space from the left of the string"
   ]
  },
  {
   "cell_type": "code",
   "execution_count": 10,
   "id": "a9e59942-b495-409e-8f18-27428e7125af",
   "metadata": {},
   "outputs": [
    {
     "data": {
      "text/plain": [
       "' Anmol'"
      ]
     },
     "execution_count": 10,
     "metadata": {},
     "output_type": "execute_result"
    }
   ],
   "source": [
    "string_a.rstrip(\" \") #--Remove Space from the right of the string"
   ]
  },
  {
   "cell_type": "code",
   "execution_count": 11,
   "id": "50ba2022-4025-4153-a183-653904257a73",
   "metadata": {},
   "outputs": [
    {
     "data": {
      "text/plain": [
       "'Greeting from me'"
      ]
     },
     "execution_count": 11,
     "metadata": {},
     "output_type": "execute_result"
    }
   ],
   "source": [
    "string_b=\"Greeting to me\"\n",
    "string_b.replace(\"to\",\"from\") ## to eill replace by from using replace()"
   ]
  },
  {
   "cell_type": "code",
   "execution_count": 12,
   "id": "baeb6358-4b78-480f-8c62-f3e4967f9aad",
   "metadata": {},
   "outputs": [
    {
     "data": {
      "text/plain": [
       "'hello   world'"
      ]
     },
     "execution_count": 12,
     "metadata": {},
     "output_type": "execute_result"
    }
   ],
   "source": [
    "'hello \\tworld'.expandtabs()"
   ]
  },
  {
   "cell_type": "code",
   "execution_count": 13,
   "id": "96500173-a018-44c8-bd34-8b65a06bd1f2",
   "metadata": {},
   "outputs": [
    {
     "data": {
      "text/plain": [
       "'Welcome to Data Science'"
      ]
     },
     "execution_count": 13,
     "metadata": {},
     "output_type": "execute_result"
    }
   ],
   "source": [
    "str1=\"Welcome to Dat cience\"\n",
    "str1.replace(\"Dat\",\"Data\").replace(\"cience\",\"Science\")"
   ]
  },
  {
   "cell_type": "code",
   "execution_count": 14,
   "id": "f9e0e17f-19ec-405c-8461-d194cf8097c2",
   "metadata": {},
   "outputs": [
    {
     "data": {
      "text/plain": [
       "True"
      ]
     },
     "execution_count": 14,
     "metadata": {},
     "output_type": "execute_result"
    }
   ],
   "source": [
    "str_2=\"ANMOL\"\n",
    "str_2.isupper() ## This will return true if the string is in upper case else false"
   ]
  },
  {
   "cell_type": "code",
   "execution_count": 15,
   "id": "c28d8960-eb09-45c3-8c27-911e614a71bd",
   "metadata": {},
   "outputs": [
    {
     "data": {
      "text/plain": [
       "True"
      ]
     },
     "execution_count": 15,
     "metadata": {},
     "output_type": "execute_result"
    }
   ],
   "source": [
    "str_3=\"Anmol\"\n",
    "str_3.endswith(\"l\")"
   ]
  },
  {
   "cell_type": "markdown",
   "id": "b3793f15-484a-4ef5-8004-b69a6c996420",
   "metadata": {},
   "source": [
    "### Check if all the char in string are alphanumeric"
   ]
  },
  {
   "cell_type": "code",
   "execution_count": 16,
   "id": "2354f973-1776-4075-88b9-d8738c7834fa",
   "metadata": {},
   "outputs": [
    {
     "data": {
      "text/plain": [
       "True"
      ]
     },
     "execution_count": 16,
     "metadata": {},
     "output_type": "execute_result"
    }
   ],
   "source": [
    "a=\"abc123\"\n",
    "a.isalnum()"
   ]
  },
  {
   "cell_type": "code",
   "execution_count": 17,
   "id": "e0bdf9cc-7408-4078-8c92-1c6d19dbbeb3",
   "metadata": {},
   "outputs": [
    {
     "name": "stdout",
     "output_type": "stream",
     "text": [
      "5\n"
     ]
    }
   ],
   "source": [
    "## To count the number of characte in the string\n",
    "str_4=\"Anmol\"\n",
    "count =0\n",
    "for i in str_4:\n",
    "    count=count+1\n",
    "print(count)"
   ]
  },
  {
   "cell_type": "code",
   "execution_count": 18,
   "id": "7d98b652-bf63-41f2-80fb-e1048f37250e",
   "metadata": {},
   "outputs": [
    {
     "data": {
      "text/plain": [
       "5"
      ]
     },
     "execution_count": 18,
     "metadata": {},
     "output_type": "execute_result"
    }
   ],
   "source": [
    "len(str_4)"
   ]
  },
  {
   "cell_type": "code",
   "execution_count": 19,
   "id": "762135b4-516f-4692-b061-81aa254bb925",
   "metadata": {},
   "outputs": [
    {
     "name": "stdout",
     "output_type": "stream",
     "text": [
      "0 = A\n",
      "1 = n\n",
      "2 = m\n",
      "3 = o\n",
      "4 = l\n"
     ]
    }
   ],
   "source": [
    "## If I want to print a string index wise\n",
    "\n",
    "for i in range(len(str_4)):\n",
    "    print(i,\"=\",str_4[i])"
   ]
  },
  {
   "cell_type": "markdown",
   "id": "9bfb5148-20a4-4ed8-925e-47196b215060",
   "metadata": {},
   "source": [
    "### We can use index to iterate string reverse direction"
   ]
  },
  {
   "cell_type": "code",
   "execution_count": 3,
   "id": "fdedd46a-9011-40a1-9b0d-071cc3c8147a",
   "metadata": {},
   "outputs": [
    {
     "name": "stdout",
     "output_type": "stream",
     "text": [
      "m\n",
      "a\n",
      "r\n",
      "g\n",
      "o\n",
      "r\n",
      "P\n"
     ]
    }
   ],
   "source": [
    "str_5=\"Program\"\n",
    "for i in range(len(str_5)-1,-1,-1):\n",
    "    print(str_5[i])"
   ]
  },
  {
   "cell_type": "code",
   "execution_count": 4,
   "id": "2d51ac4e-75c2-418f-a483-c6139371a428",
   "metadata": {},
   "outputs": [
    {
     "name": "stdout",
     "output_type": "stream",
     "text": [
      "margorP"
     ]
    }
   ],
   "source": [
    "## If we want to print in single line:\n",
    "str_5=\"Program\"\n",
    "for i in range(len(str_5)):\n",
    "    print(str_5[len(str_5)-(i+1)],end=\"\")"
   ]
  },
  {
   "cell_type": "markdown",
   "id": "80ad158b-64d5-459a-9aa1-1a60f0b67298",
   "metadata": {},
   "source": [
    "### Checking whether character is vowel or not"
   ]
  },
  {
   "cell_type": "code",
   "execution_count": 5,
   "id": "5d25ea2e-2c84-4848-b60d-779c611e2824",
   "metadata": {},
   "outputs": [
    {
     "name": "stdout",
     "output_type": "stream",
     "text": [
      "P is not vowel\n",
      "r is not vowel\n",
      "o is vowel\n",
      "g is not vowel\n",
      "r is not vowel\n",
      "a is vowel\n",
      "m is not vowel\n"
     ]
    }
   ],
   "source": [
    "name=\"Program\"\n",
    "vowel=\"AaEeIiOoUu\"\n",
    "for ch in name:\n",
    "    if ch in vowel:\n",
    "        print(\"{} is vowel\".format(ch))\n",
    "    else:\n",
    "        print(\"{} is not vowel\".format(ch))"
   ]
  },
  {
   "cell_type": "markdown",
   "id": "4a81e8e3-6926-41a2-803c-28638e0718e0",
   "metadata": {},
   "source": [
    "## List:"
   ]
  },
  {
   "cell_type": "code",
   "execution_count": 6,
   "id": "e6f79b52-e77a-4c26-923a-ca4a71a1e702",
   "metadata": {},
   "outputs": [],
   "source": [
    "## List is a collection of Data.List is Mutable."
   ]
  },
  {
   "cell_type": "code",
   "execution_count": 7,
   "id": "015c8394-e3ee-4616-b730-7018e0e08e04",
   "metadata": {},
   "outputs": [
    {
     "data": {
      "text/plain": [
       "['Anmol', 'Programming', 'skills', 23]"
      ]
     },
     "execution_count": 7,
     "metadata": {},
     "output_type": "execute_result"
    }
   ],
   "source": [
    "[\"Anmol\",\"Programming\",\"skills\",23]"
   ]
  },
  {
   "cell_type": "code",
   "execution_count": 8,
   "id": "188fe145-fe13-4530-bac9-fc3a17a25c20",
   "metadata": {},
   "outputs": [
    {
     "data": {
      "text/plain": [
       "['A', 'n', 'm', 'o', 'l']"
      ]
     },
     "execution_count": 8,
     "metadata": {},
     "output_type": "execute_result"
    }
   ],
   "source": [
    "str_=\"Anmol\"\n",
    "list(str_)"
   ]
  },
  {
   "cell_type": "code",
   "execution_count": 3,
   "id": "59ac61e4-3aec-42a5-9c58-9e3a2cda2c8a",
   "metadata": {},
   "outputs": [
    {
     "data": {
      "text/plain": [
       "['Hello', 'Programmers', 'how', 'are', 'you']"
      ]
     },
     "execution_count": 3,
     "metadata": {},
     "output_type": "execute_result"
    }
   ],
   "source": [
    "string_1=\"Hello Programmers how are you\"\n",
    "lst_1=list(string_1.split(\" \"))\n",
    "lst_1"
   ]
  },
  {
   "cell_type": "code",
   "execution_count": 4,
   "id": "257d814d-c118-4474-865c-c73e37b48676",
   "metadata": {},
   "outputs": [
    {
     "data": {
      "text/plain": [
       "['Hello', 'Programmers', 'how', 'are', 'you']"
      ]
     },
     "execution_count": 4,
     "metadata": {},
     "output_type": "execute_result"
    }
   ],
   "source": [
    "lst_1"
   ]
  },
  {
   "cell_type": "code",
   "execution_count": 5,
   "id": "6ec081e0-5de4-4bb2-8244-05749a9662e8",
   "metadata": {},
   "outputs": [
    {
     "data": {
      "text/plain": [
       "['Hello', 'Coders', 'how', 'are', 'you']"
      ]
     },
     "execution_count": 5,
     "metadata": {},
     "output_type": "execute_result"
    }
   ],
   "source": [
    "## We can change the elements of list because list is mutable.\n",
    "lst_1[1]=\"Coders\"\n",
    "lst_1"
   ]
  },
  {
   "cell_type": "markdown",
   "id": "2437736d-92f4-4b95-96c7-56eb849519de",
   "metadata": {
    "tags": []
   },
   "source": [
    "### Concatenation Operation:"
   ]
  },
  {
   "cell_type": "code",
   "execution_count": 6,
   "id": "a8f7dde0-c627-43b9-87e7-e501c3475632",
   "metadata": {},
   "outputs": [
    {
     "data": {
      "text/plain": [
       "['Hello', 'Coders', 'how', 'are', 'you']"
      ]
     },
     "execution_count": 6,
     "metadata": {},
     "output_type": "execute_result"
    }
   ],
   "source": [
    "lst_1"
   ]
  },
  {
   "cell_type": "code",
   "execution_count": 7,
   "id": "c1465873-2e71-4543-a6c7-83d82f13658c",
   "metadata": {
    "tags": []
   },
   "outputs": [
    {
     "data": {
      "text/plain": [
       "['Hello', 'Coders', 'how', 'are', 'you', 'New Element']"
      ]
     },
     "execution_count": 7,
     "metadata": {},
     "output_type": "execute_result"
    }
   ],
   "source": [
    "lst_2=lst_1 + ['New Element']\n",
    "lst_2"
   ]
  },
  {
   "cell_type": "code",
   "execution_count": 8,
   "id": "acdd3b09-793c-484e-b1ac-faad45ca583e",
   "metadata": {},
   "outputs": [
    {
     "data": {
      "text/plain": [
       "'New Element'"
      ]
     },
     "execution_count": 8,
     "metadata": {},
     "output_type": "execute_result"
    }
   ],
   "source": [
    "lst_2[-1]"
   ]
  },
  {
   "cell_type": "code",
   "execution_count": 10,
   "id": "a36cadfa-a3fb-46b9-86cf-c6970e2f6797",
   "metadata": {},
   "outputs": [
    {
     "data": {
      "text/plain": [
       "['Hello', 'Coders', 'how', 'are', 'you', 'New Element']"
      ]
     },
     "execution_count": 10,
     "metadata": {},
     "output_type": "execute_result"
    }
   ],
   "source": [
    "lst_2"
   ]
  },
  {
   "cell_type": "code",
   "execution_count": 11,
   "id": "61d7f664-fa6c-41d3-8440-838cd5bd1868",
   "metadata": {},
   "outputs": [
    {
     "name": "stdout",
     "output_type": "stream",
     "text": [
      "you\n"
     ]
    }
   ],
   "source": [
    "for element in lst_2:\n",
    "    if element == \"you\":\n",
    "        print(element)\n",
    "        break"
   ]
  },
  {
   "cell_type": "code",
   "execution_count": 12,
   "id": "8f48a7f3-68df-416b-b944-72e39ef08f03",
   "metadata": {},
   "outputs": [
    {
     "data": {
      "text/plain": [
       "True"
      ]
     },
     "execution_count": 12,
     "metadata": {},
     "output_type": "execute_result"
    }
   ],
   "source": [
    "##check Element inside a list\n",
    "lst = [1,2,3,4]\n",
    "4 in lst"
   ]
  },
  {
   "cell_type": "code",
   "execution_count": 13,
   "id": "899f5ca8-a2eb-4aa3-ae37-910cd3a4c34c",
   "metadata": {},
   "outputs": [
    {
     "name": "stdout",
     "output_type": "stream",
     "text": [
      "9\n"
     ]
    }
   ],
   "source": [
    "lst_6=[1,7,4,2,9,5,3]\n",
    "print(max(lst_6))"
   ]
  },
  {
   "cell_type": "markdown",
   "id": "a4cffb5c-4ff1-40c8-87d5-4a33fe84f563",
   "metadata": {},
   "source": [
    "### Append in list"
   ]
  },
  {
   "cell_type": "code",
   "execution_count": 14,
   "id": "b4ee7d2a-95ca-43d0-bba3-79adabc27fb8",
   "metadata": {},
   "outputs": [
    {
     "data": {
      "text/plain": [
       "[1, 2, 3, 4, 5, 4]"
      ]
     },
     "execution_count": 14,
     "metadata": {},
     "output_type": "execute_result"
    }
   ],
   "source": [
    "lst = [1,2,3,4,5]\n",
    "lst.append(4)  #--Append is Inplace operation it will append in the original list\n",
    "lst"
   ]
  },
  {
   "cell_type": "code",
   "execution_count": 15,
   "id": "811ae40f-f0d1-4628-a385-762a749a8b9e",
   "metadata": {},
   "outputs": [
    {
     "data": {
      "text/plain": [
       "[1, 2, 3, 4]"
      ]
     },
     "execution_count": 15,
     "metadata": {},
     "output_type": "execute_result"
    }
   ],
   "source": [
    "lst = [1,2,3,4,5]\n",
    "lst.pop() ## It will pop last element\n",
    "lst"
   ]
  },
  {
   "cell_type": "markdown",
   "id": "6421a3a7-0513-47e5-a8d4-7bd594dcd595",
   "metadata": {},
   "source": [
    "### Sorting and Reverse method in list:"
   ]
  },
  {
   "cell_type": "code",
   "execution_count": 16,
   "id": "d539b88c-c695-4f36-a6ac-a4abd58e35ad",
   "metadata": {},
   "outputs": [
    {
     "data": {
      "text/plain": [
       "['q', 'e', 'f', 's', 't', 'u']"
      ]
     },
     "execution_count": 16,
     "metadata": {},
     "output_type": "execute_result"
    }
   ],
   "source": [
    "new_list=['q','e','f','s','t','u']\n",
    "new_list"
   ]
  },
  {
   "cell_type": "code",
   "execution_count": 17,
   "id": "b8f7cfa6-8968-4804-848d-3e4580dada9a",
   "metadata": {},
   "outputs": [
    {
     "data": {
      "text/plain": [
       "['u', 't', 's', 'f', 'e', 'q']"
      ]
     },
     "execution_count": 17,
     "metadata": {},
     "output_type": "execute_result"
    }
   ],
   "source": [
    "new_list[::-1]"
   ]
  },
  {
   "cell_type": "code",
   "execution_count": 19,
   "id": "123f4d49-c7b6-4707-8417-3ec75257758a",
   "metadata": {},
   "outputs": [
    {
     "data": {
      "text/plain": [
       "['e', 'f', 'q', 's', 't', 'u']"
      ]
     },
     "execution_count": 19,
     "metadata": {},
     "output_type": "execute_result"
    }
   ],
   "source": [
    "new_list.sort()\n",
    "new_list"
   ]
  },
  {
   "cell_type": "markdown",
   "id": "c4ce5ae3-cb3c-4788-88d5-90069e2f5371",
   "metadata": {},
   "source": [
    "### Nested List:\n"
   ]
  },
  {
   "cell_type": "code",
   "execution_count": 21,
   "id": "77f7cb2f-22b5-4534-8520-91052669e0f8",
   "metadata": {},
   "outputs": [
    {
     "data": {
      "text/plain": [
       "[[1, 2, 3], [4, 5, 6], [7, 8, 9]]"
      ]
     },
     "execution_count": 21,
     "metadata": {},
     "output_type": "execute_result"
    }
   ],
   "source": [
    "# let's make three lists\n",
    "lst_1=[1,2,3]\n",
    "lst_2=[4,5,6]\n",
    "lst_3=[7,8,9]\n",
    "\n",
    "# Make a list of lists to form a matrix\n",
    "matrix= [lst_1,lst_2,lst_3]\n",
    "matrix"
   ]
  },
  {
   "cell_type": "code",
   "execution_count": 22,
   "id": "5c6c324d-658a-42c4-9163-9736bdc882ce",
   "metadata": {},
   "outputs": [
    {
     "data": {
      "text/plain": [
       "6"
      ]
     },
     "execution_count": 22,
     "metadata": {},
     "output_type": "execute_result"
    }
   ],
   "source": [
    "matrix[1][2]"
   ]
  },
  {
   "cell_type": "code",
   "execution_count": 23,
   "id": "77198bd2-3c28-415b-86f9-b31b5e87f05e",
   "metadata": {},
   "outputs": [
    {
     "data": {
      "text/plain": [
       "[0, 1, 2, 3, 4, 5, 6, 7, 8, 9, 10, 11, 12, 13, 14, 15, 16, 17, 18, 19]"
      ]
     },
     "execution_count": 23,
     "metadata": {},
     "output_type": "execute_result"
    }
   ],
   "source": [
    "## List comprehension\n",
    "[i for i in range(20)]"
   ]
  },
  {
   "cell_type": "code",
   "execution_count": 24,
   "id": "2b5d2d0a-d79f-4689-bda6-3778ad98a4e9",
   "metadata": {},
   "outputs": [
    {
     "data": {
      "text/plain": [
       "[1, 2, 3, 4, 5, 6, 7, 8]"
      ]
     },
     "execution_count": 24,
     "metadata": {},
     "output_type": "execute_result"
    }
   ],
   "source": [
    "## Given a list ,find the sum of even numbers and odd numbers.\n",
    "lst=[1,2,3,4,5,6,7,8]\n",
    "lst"
   ]
  },
  {
   "cell_type": "code",
   "execution_count": 26,
   "id": "913d312f-45b1-4616-991d-9657287fe537",
   "metadata": {},
   "outputs": [
    {
     "name": "stdout",
     "output_type": "stream",
     "text": [
      "20\n",
      "16\n"
     ]
    }
   ],
   "source": [
    "even_sum=0\n",
    "odd_sum=0\n",
    "for i in lst:\n",
    "    if i % 2==0:\n",
    "        even_sum+=i\n",
    "    else:\n",
    "        odd_sum+=i\n",
    "print(even_sum)\n",
    "print(odd_sum)"
   ]
  },
  {
   "cell_type": "code",
   "execution_count": 27,
   "id": "faf90646-93a6-45d4-be10-76d55296f7a8",
   "metadata": {},
   "outputs": [
    {
     "data": {
      "text/plain": [
       "20"
      ]
     },
     "execution_count": 27,
     "metadata": {},
     "output_type": "execute_result"
    }
   ],
   "source": [
    "## We can also sum using  List comprehention\n",
    "even_sum=sum([num for num in lst if num%2==0])\n",
    "even_sum"
   ]
  },
  {
   "cell_type": "code",
   "execution_count": 28,
   "id": "31e1c88f-9aaa-4197-a0bc-7c4c7919f397",
   "metadata": {},
   "outputs": [
    {
     "data": {
      "text/plain": [
       "16"
      ]
     },
     "execution_count": 28,
     "metadata": {},
     "output_type": "execute_result"
    }
   ],
   "source": [
    "odd_sum =sum([num for num in lst if num%2!=0])\n",
    "odd_sum"
   ]
  },
  {
   "cell_type": "code",
   "execution_count": 31,
   "id": "00cbef6a-9fc0-4002-bf40-de68c6768af5",
   "metadata": {},
   "outputs": [
    {
     "data": {
      "text/plain": [
       "[-2, -1, 0, 1, 2, 3, 4]"
      ]
     },
     "execution_count": 31,
     "metadata": {},
     "output_type": "execute_result"
    }
   ],
   "source": [
    "# Problem : Create a list of only positive number in a list\n",
    "numbers=[-2,-1,0,1,2,3,4]\n",
    "numbers\n"
   ]
  },
  {
   "cell_type": "code",
   "execution_count": 32,
   "id": "833c5e64-8be9-4e7b-ae1b-ca0dd11c48f4",
   "metadata": {},
   "outputs": [
    {
     "data": {
      "text/plain": [
       "[1, 2, 3, 4]"
      ]
     },
     "execution_count": 32,
     "metadata": {},
     "output_type": "execute_result"
    }
   ],
   "source": [
    "[num for num in numbers if num>0]"
   ]
  },
  {
   "cell_type": "code",
   "execution_count": 34,
   "id": "472c5ef2-7fb3-4f19-9fa2-4e369d3db35b",
   "metadata": {},
   "outputs": [
    {
     "data": {
      "text/plain": [
       "['a', 'b', 'c', 'd']"
      ]
     },
     "execution_count": 34,
     "metadata": {},
     "output_type": "execute_result"
    }
   ],
   "source": [
    "## Problem:Create a list of only first letter of the word\n",
    "words =['apple','banana','cherry','date']\n",
    "[wrd[0] for wrd in words ]"
   ]
  },
  {
   "cell_type": "code",
   "execution_count": 35,
   "id": "265842c6-9f1d-4339-a1b6-b28a75cbf98c",
   "metadata": {},
   "outputs": [
    {
     "data": {
      "text/plain": [
       "[32.0, 50.0, 68.0, 86.0, 104.0, 122.0]"
      ]
     },
     "execution_count": 35,
     "metadata": {},
     "output_type": "execute_result"
    }
   ],
   "source": [
    "## Problem :Convert a list of temperature from celsius to Fahrenheit using list comprehention\n",
    "# Formula - (9/5)*temp+32\n",
    "celsius_temperatures =[0,10,20,30,40,50]\n",
    "[(9/5)*temp +  32 for temp in celsius_temperatures]"
   ]
  },
  {
   "cell_type": "code",
   "execution_count": 39,
   "id": "c3d35fc8-a0b0-4ca3-a872-f26bed9add31",
   "metadata": {},
   "outputs": [
    {
     "data": {
      "text/plain": [
       "[1, 2, 3, 4, 5, 6, 7, 8, 9]"
      ]
     },
     "execution_count": 39,
     "metadata": {},
     "output_type": "execute_result"
    }
   ],
   "source": [
    "## Problem : Flatten a list of list into a single list\n",
    "lists=[[1,2,3],[4,5,6],[7,8,9]]\n",
    " \n",
    "[num for sublist in lists for num in sublist]"
   ]
  },
  {
   "cell_type": "code",
   "execution_count": null,
   "id": "447fe680-817e-40e4-bc1e-b7284430e9eb",
   "metadata": {},
   "outputs": [],
   "source": []
  }
 ],
 "metadata": {
  "kernelspec": {
   "display_name": "Python 3 (ipykernel)",
   "language": "python",
   "name": "python3"
  },
  "language_info": {
   "codemirror_mode": {
    "name": "ipython",
    "version": 3
   },
   "file_extension": ".py",
   "mimetype": "text/x-python",
   "name": "python",
   "nbconvert_exporter": "python",
   "pygments_lexer": "ipython3",
   "version": "3.10.8"
  }
 },
 "nbformat": 4,
 "nbformat_minor": 5
}
