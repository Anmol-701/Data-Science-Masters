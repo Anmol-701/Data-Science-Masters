{
 "cells": [
  {
   "cell_type": "code",
   "execution_count": 8,
   "id": "57d12d7e-af3c-4f9a-bd5d-f307841c4347",
   "metadata": {},
   "outputs": [],
   "source": [
    "#_1 Creating a variables\n",
    "#string\n",
    "a=\"Anmol\"\n",
    "#list\n",
    "l=[1,2,3,4,'programming',5.2,True,5+4j]\n",
    "#Float\n",
    "f= 34.2\n",
    "#Tuple\n",
    "t= (1,2,3,5,[1,2,3,45],5.3,True)\n"
   ]
  },
  {
   "cell_type": "code",
   "execution_count": 9,
   "id": "42ff973e-33a6-4046-a966-46c01612a9fd",
   "metadata": {},
   "outputs": [
    {
     "data": {
      "text/plain": [
       "str"
      ]
     },
     "execution_count": 9,
     "metadata": {},
     "output_type": "execute_result"
    }
   ],
   "source": [
    "#_2 identify The Data Type\n",
    "var1 =''\n",
    "type(var1)"
   ]
  },
  {
   "cell_type": "code",
   "execution_count": 10,
   "id": "851a4b37-c209-47a0-8ee9-28b3ebfcad28",
   "metadata": {},
   "outputs": [
    {
     "data": {
      "text/plain": [
       "str"
      ]
     },
     "execution_count": 10,
     "metadata": {},
     "output_type": "execute_result"
    }
   ],
   "source": [
    "var2 = '[DS,ML,Python]'\n",
    "type(var2)"
   ]
  },
  {
   "cell_type": "code",
   "execution_count": 11,
   "id": "8d7168f6-733e-4b93-9a72-29eda2b6a305",
   "metadata": {},
   "outputs": [
    {
     "data": {
      "text/plain": [
       "list"
      ]
     },
     "execution_count": 11,
     "metadata": {},
     "output_type": "execute_result"
    }
   ],
   "source": [
    "var3 = ['DS','ML','Python']\n",
    "type(var3)"
   ]
  },
  {
   "cell_type": "code",
   "execution_count": 14,
   "id": "c541e473-3cdb-4b60-bbd5-4494ba358b69",
   "metadata": {},
   "outputs": [
    {
     "data": {
      "text/plain": [
       "int"
      ]
     },
     "execution_count": 14,
     "metadata": {},
     "output_type": "execute_result"
    }
   ],
   "source": [
    "var4= 1\n",
    "type(var4)"
   ]
  },
  {
   "cell_type": "code",
   "execution_count": 15,
   "id": "76df1a74-30f7-4e25-a4c3-fe464713c108",
   "metadata": {},
   "outputs": [
    {
     "data": {
      "text/plain": [
       "1.0"
      ]
     },
     "execution_count": 15,
     "metadata": {},
     "output_type": "execute_result"
    }
   ],
   "source": [
    "#Arithematic Operator\n",
    "# / \n",
    "\n",
    "#--this operator is used for division\n",
    "2/2 \n"
   ]
  },
  {
   "cell_type": "code",
   "execution_count": 17,
   "id": "c93f8846-c225-401c-9397-45bcfefccde9",
   "metadata": {},
   "outputs": [
    {
     "data": {
      "text/plain": [
       "0"
      ]
     },
     "execution_count": 17,
     "metadata": {},
     "output_type": "execute_result"
    }
   ],
   "source": [
    "# %\n",
    "#--This operator is used for find out the Remainder\n",
    "8%2"
   ]
  },
  {
   "cell_type": "code",
   "execution_count": 19,
   "id": "3769b235-2b3e-43af-9bbe-7f74117c0d10",
   "metadata": {},
   "outputs": [
    {
     "data": {
      "text/plain": [
       "6"
      ]
     },
     "execution_count": 19,
     "metadata": {},
     "output_type": "execute_result"
    }
   ],
   "source": [
    "# //\n",
    "#--This operator gives the floor division of  Operands\n",
    "20//3"
   ]
  },
  {
   "cell_type": "code",
   "execution_count": 20,
   "id": "dba42821-e442-4cf5-aff1-008545092859",
   "metadata": {},
   "outputs": [
    {
     "data": {
      "text/plain": [
       "16"
      ]
     },
     "execution_count": 20,
     "metadata": {},
     "output_type": "execute_result"
    }
   ],
   "source": [
    "# **\n",
    "#--this operator is used as a Power where right hand side value represents the power\n",
    "2**4"
   ]
  },
  {
   "cell_type": "code",
   "execution_count": 3,
   "id": "02e18729-c630-4488-b947-00d0b0c43cf5",
   "metadata": {},
   "outputs": [
    {
     "name": "stdout",
     "output_type": "stream",
     "text": [
      "1\n",
      "5\n",
      "3\n",
      "66\n",
      "22\n",
      "65\n",
      "5\n",
      "Anmol\n",
      "23.4\n",
      "True\n"
     ]
    }
   ],
   "source": [
    "#_4 --create a list of length 10 of your choice containing multiple types of data. Using for loop print the element and its data type.\n",
    "l= [1,5,3,66,22,65,5,'Anmol',23.4,True,]\n",
    "for i in l:\n",
    "    print(i)\n",
    "\n"
   ]
  },
  {
   "cell_type": "code",
   "execution_count": 3,
   "id": "37f5dff7-cb03-41d3-9a22-c557e49d823c",
   "metadata": {},
   "outputs": [
    {
     "name": "stdout",
     "output_type": "stream",
     "text": [
      "120 is divisible by 2 and can be divided 3 times.\n"
     ]
    }
   ],
   "source": [
    "#_5 --Using a while loop , verify if the number A is Purely divisible by Number B and if so then how many times it can be divisible\n",
    "A = 120\n",
    "B = 2\n",
    "x=A\n",
    "y=B\n",
    "count = 0\n",
    "\n",
    "while A % B == 0:\n",
    "    A = A // B\n",
    "    count += 1\n",
    "\n",
    "if count > 0:\n",
    "    print(f\"{x} is divisible by {y} and can be divided {count} times.\")\n",
    "else:\n",
    "    print(f\"{x} is not divisible by {y}.\")\n",
    "    \n"
   ]
  },
  {
   "cell_type": "code",
   "execution_count": 26,
   "id": "41c9738c-7b30-4794-a116-bcd9281ceea3",
   "metadata": {},
   "outputs": [
    {
     "name": "stdout",
     "output_type": "stream",
     "text": [
      "2 is not divisible by 3.\n",
      "5 is not divisible by 3.\n",
      "3 is divisible by 3.\n",
      "6 is divisible by 3.\n",
      "4 is not divisible by 3.\n",
      "7 is not divisible by 3.\n",
      "22 is not divisible by 3.\n",
      "66 is divisible by 3.\n",
      "24 is divisible by 3.\n",
      "34 is not divisible by 3.\n",
      "23 is not divisible by 3.\n",
      "65 is not divisible by 3.\n",
      "36 is divisible by 3.\n",
      "11 is not divisible by 3.\n",
      "31 is not divisible by 3.\n",
      "42 is divisible by 3.\n",
      "52 is not divisible by 3.\n",
      "43 is not divisible by 3.\n",
      "64 is not divisible by 3.\n",
      "74 is not divisible by 3.\n",
      "15 is divisible by 3.\n",
      "33 is divisible by 3.\n",
      "44 is not divisible by 3.\n",
      "55 is not divisible by 3.\n",
      "91 is not divisible by 3.\n"
     ]
    }
   ],
   "source": [
    "#_6--Create a List containing 25 int type data. Using for loop and if-else condition print if the element is divisible by 3 or not\n",
    "l = [2,5,3,6,4,7,22,66,24,34,23,65,36,11,31,42,52,43,64,74,15,33,44,55,91]\n",
    "for i in l:\n",
    "    if(i%3==0):\n",
    "        print(f\"{i} is divisible by 3.\")\n",
    "    else:\n",
    "        print(f\"{i} is not divisible by 3.\")\n"
   ]
  },
  {
   "cell_type": "code",
   "execution_count": 31,
   "id": "ff05213c-9fb1-4ad6-9550-5ab1d838b117",
   "metadata": {},
   "outputs": [],
   "source": [
    "#_7 --What do you Understant about mutable and Immutable data Type? Give an Example for both showing this property\n",
    "\n",
    "# Mutable--These are the Data Types which can not be modified once they are created\n",
    "#Example--String\n",
    "a = 'Anmol'\n",
    "#a[1]='a' # -->This will give an error\n",
    "\n",
    "t =(1,2,3)\n",
    "# t[0]=0 -->This will also give an error"
   ]
  },
  {
   "cell_type": "code",
   "execution_count": 1,
   "id": "d62f7150-b0d1-4ce0-a67a-099e440cdd7e",
   "metadata": {},
   "outputs": [
    {
     "data": {
      "text/plain": [
       "[2, 2, 3, 4, 5, 6]"
      ]
     },
     "execution_count": 1,
     "metadata": {},
     "output_type": "execute_result"
    }
   ],
   "source": [
    "# Immutable -- These are the Data Types which can be modified after they are created\n",
    "#Example --list\n",
    "l=[1,2,3,4,5,6]\n",
    "l[0]=2\n",
    "l"
   ]
  },
  {
   "cell_type": "code",
   "execution_count": null,
   "id": "9f6c8895-d9b7-4f51-8ed9-24992fd048f8",
   "metadata": {},
   "outputs": [],
   "source": []
  }
 ],
 "metadata": {
  "kernelspec": {
   "display_name": "Python 3 (ipykernel)",
   "language": "python",
   "name": "python3"
  },
  "language_info": {
   "codemirror_mode": {
    "name": "ipython",
    "version": 3
   },
   "file_extension": ".py",
   "mimetype": "text/x-python",
   "name": "python",
   "nbconvert_exporter": "python",
   "pygments_lexer": "ipython3",
   "version": "3.10.8"
  }
 },
 "nbformat": 4,
 "nbformat_minor": 5
}
