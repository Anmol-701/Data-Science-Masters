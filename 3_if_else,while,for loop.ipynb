{
 "cells": [
  {
   "cell_type": "markdown",
   "id": "75431e76-e20f-4e16-a82a-9dfeec85c102",
   "metadata": {},
   "source": [
    "## If_else - If_else Statements are used when we want to execute particular statement from multiple statements\n",
    "### Example - Firstly the 'if' condition is checked if it is true then the code written inside the if will execute otherwise it will goes to else statement."
   ]
  },
  {
   "cell_type": "code",
   "execution_count": 1,
   "id": "f075a5a1-455d-427b-ad27-1d2e47bb3d74",
   "metadata": {},
   "outputs": [],
   "source": [
    "a = 10\n",
    "if a>10:\n",
    "    print(\" A is greater then 10\")\n",
    "     "
   ]
  },
  {
   "cell_type": "code",
   "execution_count": 2,
   "id": "a41dccc5-b692-427d-b952-fecf05fff2bd",
   "metadata": {},
   "outputs": [
    {
     "name": "stdout",
     "output_type": "stream",
     "text": [
      "A is not greater than 10\n"
     ]
    }
   ],
   "source": [
    "a = 10\n",
    "if a>10:\n",
    "    print(\" A is greater than 10\")\n",
    "else:\n",
    "    print(\"A is not greater than 10\")"
   ]
  },
  {
   "cell_type": "code",
   "execution_count": 3,
   "id": "37c15bda-8885-4a93-8d6a-c4c5e5be5f50",
   "metadata": {},
   "outputs": [
    {
     "name": "stdout",
     "output_type": "stream",
     "text": [
      "A is lesser than or Equal to 10\n"
     ]
    }
   ],
   "source": [
    "a = 10\n",
    "if a>10:\n",
    "    print(\" A is greater than 10\")\n",
    "elif a <=10:\n",
    "    print(\"A is lesser than or Equal to 10\")\n"
   ]
  },
  {
   "cell_type": "code",
   "execution_count": 4,
   "id": "4d896366-dcda-4c32-b0b8-8fbef80d225c",
   "metadata": {},
   "outputs": [
    {
     "name": "stdin",
     "output_type": "stream",
     "text": [
      "Enter a Value for a 2\n"
     ]
    },
    {
     "name": "stdout",
     "output_type": "stream",
     "text": [
      "A is lesser than or Equal to 10\n"
     ]
    }
   ],
   "source": [
    "a =int(input(\"Enter a Value for a\"))\n",
    "a = 10\n",
    "if a>10:\n",
    "    print(\" A is greater than 10\")\n",
    "elif a <=10:\n",
    "    print(\"A is lesser than or Equal to 10\")"
   ]
  },
  {
   "cell_type": "markdown",
   "id": "a81fc835-beef-4846-9bd4-15b77b972ccc",
   "metadata": {},
   "source": [
    "### loop - Loops are used to iterate Statement Numbers of times . Some examples of loops in Python are:\n",
    "  ##       - For Loop\n",
    "  ##       - While Loop"
   ]
  },
  {
   "cell_type": "code",
   "execution_count": 6,
   "id": "141d3070-2f62-46fa-8f7a-bbd1ce8ade2f",
   "metadata": {},
   "outputs": [
    {
     "name": "stdout",
     "output_type": "stream",
     "text": [
      "1\n",
      "2\n",
      "3\n",
      "4\n",
      "5\n",
      "6\n",
      "7\n",
      "8\n",
      "9\n",
      "This will execute once while will complete it Successfully\n"
     ]
    }
   ],
   "source": [
    "n= 10\n",
    "i=1\n",
    "while i<n:\n",
    "    print(i)\n",
    "    i = i +1\n",
    "else:\n",
    "    print(\"This will execute once while will complete it Successfully\")\n",
    "    "
   ]
  },
  {
   "cell_type": "code",
   "execution_count": 7,
   "id": "75a4a2ee-00fe-4cd6-a84a-bc1ad7fdfd28",
   "metadata": {},
   "outputs": [
    {
     "name": "stdout",
     "output_type": "stream",
     "text": [
      "1\n",
      "2\n"
     ]
    }
   ],
   "source": [
    "n= 10\n",
    "i=1\n",
    "while i<n:\n",
    "    print(i)\n",
    "    i = i +1\n",
    "    if i ==3:\n",
    "        break\n",
    "else:\n",
    "    print(\"This will execute once while will complete it Successfully\")"
   ]
  },
  {
   "cell_type": "code",
   "execution_count": 9,
   "id": "afb8c46f-2612-4b26-a38b-5b89015e1c1e",
   "metadata": {},
   "outputs": [
    {
     "name": "stdout",
     "output_type": "stream",
     "text": [
      "2\n",
      "4\n",
      "5\n",
      "6\n",
      "7\n",
      "8\n",
      "9\n",
      "10\n",
      "This will execute once while will complete it Successfully\n"
     ]
    }
   ],
   "source": [
    "n= 10\n",
    "i=1\n",
    "while i<n:\n",
    "    i = i +1\n",
    "    if i ==3:\n",
    "        continue\n",
    "    print(i)\n",
    "else:\n",
    "    print(\"This will execute once while will complete it Successfully\")"
   ]
  },
  {
   "cell_type": "markdown",
   "id": "5ce2e2e7-8b07-4ddc-aa1d-41c26d7261c9",
   "metadata": {},
   "source": [
    "## Here you can see i print a string using for loop"
   ]
  },
  {
   "cell_type": "code",
   "execution_count": 10,
   "id": "5fe50d42-681d-4a32-8d02-3212a37db9d7",
   "metadata": {},
   "outputs": [
    {
     "name": "stdout",
     "output_type": "stream",
     "text": [
      "s\n",
      "u\n",
      "d\n",
      "h\n"
     ]
    }
   ],
   "source": [
    "s = 'sudh'\n",
    "\n",
    "for i in s:\n",
    "    print(i)"
   ]
  },
  {
   "cell_type": "markdown",
   "id": "85e6c83d-cb98-4b04-8113-1cc50242cd1d",
   "metadata": {},
   "source": [
    "## And here i am printing a list using for loop."
   ]
  },
  {
   "cell_type": "code",
   "execution_count": 12,
   "id": "462630eb-2775-4736-b209-5b37872dd580",
   "metadata": {},
   "outputs": [
    {
     "name": "stdout",
     "output_type": "stream",
     "text": [
      "2\n",
      "3\n",
      "4\n",
      "5\n",
      "6\n",
      "anmol\n",
      "True\n",
      "5.3\n",
      "This will execute only after when for loop will complete itself\n"
     ]
    }
   ],
   "source": [
    "l = [2,3,4,5,6,\"anmol\",True,5.3]\n",
    "for j in l:\n",
    "    print(j)\n",
    "else:\n",
    "    print(\"This will execute only after when for loop will complete itself\")"
   ]
  },
  {
   "cell_type": "markdown",
   "id": "8deba644-35c6-4094-bc4a-3a7677b56406",
   "metadata": {},
   "source": [
    "### EveryThing We are declaring will store in our memory so, we can access the memory location of that variable or list deaclared  using id() funtion"
   ]
  },
  {
   "cell_type": "code",
   "execution_count": 15,
   "id": "50fe8d2a-7747-4b86-a883-242bd4288e71",
   "metadata": {},
   "outputs": [
    {
     "name": "stdout",
     "output_type": "stream",
     "text": [
      "140272362911616\n"
     ]
    }
   ],
   "source": [
    "list_a=[1,2,3,4]\n",
    "\n",
    "print(id(list_a))"
   ]
  },
  {
   "cell_type": "markdown",
   "id": "0c8300c0-3b28-4fcf-81da-d07e332eb5c0",
   "metadata": {},
   "source": [
    "### Range() - It is built-in function which is used to produce sequence of integers from start to stop.\n",
    "  - Here we creating a list of range start from 0 to 10 but it will exclude 10 and will produce integers till 9."
   ]
  },
  {
   "cell_type": "code",
   "execution_count": 14,
   "id": "b5a0835e-853e-4493-86f4-4668891f71b8",
   "metadata": {},
   "outputs": [
    {
     "data": {
      "text/plain": [
       "[0, 1, 2, 3, 4, 5, 6, 7, 8, 9]"
      ]
     },
     "execution_count": 14,
     "metadata": {},
     "output_type": "execute_result"
    }
   ],
   "source": [
    "#range function\n",
    "list(range(0,10))"
   ]
  },
  {
   "cell_type": "markdown",
   "id": "2ee2a51c-4123-44a8-80af-53d6d6113e13",
   "metadata": {},
   "source": [
    "### Nested Loop - Nested loops are the loop which are loop inside loop . How this works is that the first pass of the outer loop triggers the inner loop, which executes to completion. Then the second pass of the outer loop triggers the inner loop again."
   ]
  },
  {
   "cell_type": "code",
   "execution_count": 3,
   "id": "e4d75b17-989b-435a-8be4-b0537df4d03c",
   "metadata": {},
   "outputs": [
    {
     "name": "stdout",
     "output_type": "stream",
     "text": [
      "*\n",
      "**\n",
      "***\n",
      "****\n",
      "*****\n",
      "******\n",
      "*******\n"
     ]
    }
   ],
   "source": [
    "## Nested Loop\n",
    "n=7\n",
    "for i in  range(0,n):\n",
    "    for j in range(0,i+1):\n",
    "        print(\"*\",end=\"\")\n",
    "    print(\"\\r\")"
   ]
  },
  {
   "cell_type": "code",
   "execution_count": 13,
   "id": "a1f0d7a2-d763-4fb2-8b7d-00652879e830",
   "metadata": {},
   "outputs": [
    {
     "name": "stdout",
     "output_type": "stream",
     "text": [
      "      \n",
      "     *\n",
      "    ***\n",
      "   *****\n",
      "  *******\n",
      " *********\n"
     ]
    }
   ],
   "source": [
    "n =6\n",
    "for row in range(0,n):\n",
    "    for space in range(0,(n-row)):\n",
    "        print(\" \",end=\"\")\n",
    "    for star in range(0,(2*row-1)):\n",
    "        print(\"*\",end=\"\")\n",
    "    print(\"\\r\")"
   ]
  },
  {
   "cell_type": "code",
   "execution_count": null,
   "id": "80ed2a6f-d57b-4a59-815e-917cfa0b1257",
   "metadata": {},
   "outputs": [],
   "source": []
  }
 ],
 "metadata": {
  "kernelspec": {
   "display_name": "Python 3 (ipykernel)",
   "language": "python",
   "name": "python3"
  },
  "language_info": {
   "codemirror_mode": {
    "name": "ipython",
    "version": 3
   },
   "file_extension": ".py",
   "mimetype": "text/x-python",
   "name": "python",
   "nbconvert_exporter": "python",
   "pygments_lexer": "ipython3",
   "version": "3.10.8"
  }
 },
 "nbformat": 4,
 "nbformat_minor": 5
}
