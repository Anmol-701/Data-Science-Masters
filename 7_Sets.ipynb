{
 "cells": [
  {
   "cell_type": "markdown",
   "id": "8f41ae69-20e3-4a9e-bf6e-c407c08cc92a",
   "metadata": {},
   "source": [
    "## Set:\n",
    "  - Set is written with curly brackets.\n",
    "  - Set is collection of different type of data\n",
    "  - Set is immutable but we can remove and add new items.\n",
    "  - A set is a collection which is unordered and unindexed beacuse it does not store data in sequential way"
   ]
  },
  {
   "cell_type": "code",
   "execution_count": 2,
   "id": "20ee6010-bd53-4501-868b-765a68cc34e1",
   "metadata": {},
   "outputs": [
    {
     "data": {
      "text/plain": [
       "set"
      ]
     },
     "execution_count": 2,
     "metadata": {},
     "output_type": "execute_result"
    }
   ],
   "source": [
    "s ={1,2,3,4,5}\n",
    "type(s)"
   ]
  },
  {
   "cell_type": "code",
   "execution_count": 3,
   "id": "82063b4f-dc06-4ba7-88c5-402eb8259a40",
   "metadata": {},
   "outputs": [
    {
     "data": {
      "text/plain": [
       "{1, 2, 3, 4, 5}"
      ]
     },
     "execution_count": 3,
     "metadata": {},
     "output_type": "execute_result"
    }
   ],
   "source": [
    "## we can remove the duplicates from list or tuple using set\n",
    "tuple=(1,2,3,3,4,5,5)\n",
    "set(tuple)"
   ]
  },
  {
   "cell_type": "code",
   "execution_count": 4,
   "id": "f25e9300-f224-4fd1-867f-d1c3af29521c",
   "metadata": {},
   "outputs": [
    {
     "data": {
      "text/plain": [
       "{2, 3, 4, 5, 'Anmol', 'anmol'}"
      ]
     },
     "execution_count": 4,
     "metadata": {},
     "output_type": "execute_result"
    }
   ],
   "source": [
    "s2={\"anmol\",\"Anmol\",2,3,4,5}\n",
    "s2  ##-- Here it will print both anmol and Anmol because it is case sensitive language"
   ]
  },
  {
   "cell_type": "code",
   "execution_count": 5,
   "id": "a12c7cdf-9f5d-425d-a489-d48cc35e9164",
   "metadata": {},
   "outputs": [
    {
     "data": {
      "text/plain": [
       "{2, 3, 4, 5, 'Anmol', 'anmol'}"
      ]
     },
     "execution_count": 5,
     "metadata": {},
     "output_type": "execute_result"
    }
   ],
   "source": [
    "## addind items in set\n",
    "s2"
   ]
  },
  {
   "cell_type": "code",
   "execution_count": 7,
   "id": "bbc0c1e1-fcca-4d80-9869-1ae9c858de22",
   "metadata": {},
   "outputs": [
    {
     "data": {
      "text/plain": [
       "{2, 3, 32, 4, 5, 'Anmol', 'anmol'}"
      ]
     },
     "execution_count": 7,
     "metadata": {},
     "output_type": "execute_result"
    }
   ],
   "source": [
    "s2.add(32)\n",
    "s2"
   ]
  },
  {
   "cell_type": "code",
   "execution_count": 9,
   "id": "f11b4ecd-d7e7-4992-a2ec-e97a834b5149",
   "metadata": {},
   "outputs": [
    {
     "data": {
      "text/plain": [
       "{2, 3, 32, 4, 5, 'Anmol', 'anmol', 'sudh'}"
      ]
     },
     "execution_count": 9,
     "metadata": {},
     "output_type": "execute_result"
    }
   ],
   "source": [
    "s2.add(\"sudh\")\n",
    "s2"
   ]
  },
  {
   "cell_type": "code",
   "execution_count": 10,
   "id": "f023c0e9-15f4-4eb5-b7c3-f8fc059de8ba",
   "metadata": {},
   "outputs": [
    {
     "data": {
      "text/plain": [
       "8"
      ]
     },
     "execution_count": 10,
     "metadata": {},
     "output_type": "execute_result"
    }
   ],
   "source": [
    "len(s2) ## -- This will return the length of s2 set"
   ]
  },
  {
   "cell_type": "code",
   "execution_count": 12,
   "id": "7758a70e-bc29-4b1d-8f06-e4d1a4526813",
   "metadata": {},
   "outputs": [
    {
     "name": "stdout",
     "output_type": "stream",
     "text": [
      "Poped_item: 2\n"
     ]
    }
   ],
   "source": [
    "poped_item=s2.pop() ## It will pop the item on the basis of Hashing\n",
    "print(\"Poped_item:\",poped_item)"
   ]
  },
  {
   "cell_type": "code",
   "execution_count": 13,
   "id": "24b2e527-aeef-4955-ac3b-d6fc37f27baf",
   "metadata": {},
   "outputs": [
    {
     "data": {
      "text/plain": [
       "{3, 4, 5, 'Anmol', 'anmol', 'sudh'}"
      ]
     },
     "execution_count": 13,
     "metadata": {},
     "output_type": "execute_result"
    }
   ],
   "source": [
    "s2"
   ]
  },
  {
   "cell_type": "code",
   "execution_count": 15,
   "id": "293e6bc4-4a39-4a63-a300-7ca3132ec24e",
   "metadata": {},
   "outputs": [
    {
     "data": {
      "text/plain": [
       "set()"
      ]
     },
     "execution_count": 15,
     "metadata": {},
     "output_type": "execute_result"
    }
   ],
   "source": [
    "s2.clear() ## This will remove all items\n",
    "s2"
   ]
  },
  {
   "cell_type": "code",
   "execution_count": null,
   "id": "7132a932-03c1-4089-a25d-475aac6ba655",
   "metadata": {},
   "outputs": [],
   "source": []
  }
 ],
 "metadata": {
  "kernelspec": {
   "display_name": "Python 3 (ipykernel)",
   "language": "python",
   "name": "python3"
  },
  "language_info": {
   "codemirror_mode": {
    "name": "ipython",
    "version": 3
   },
   "file_extension": ".py",
   "mimetype": "text/x-python",
   "name": "python",
   "nbconvert_exporter": "python",
   "pygments_lexer": "ipython3",
   "version": "3.10.8"
  }
 },
 "nbformat": 4,
 "nbformat_minor": 5
}
