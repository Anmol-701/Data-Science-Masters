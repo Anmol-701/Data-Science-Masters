{
 "cells": [
  {
   "cell_type": "markdown",
   "id": "7d51de1a-4936-452b-a383-142f4d4153cd",
   "metadata": {},
   "source": [
    "## Map:\n",
    "  - Map function does the maping of the element available inside the iteration."
   ]
  },
  {
   "cell_type": "code",
   "execution_count": 2,
   "id": "bf956d9b-b421-4d73-bda6-b56ad34ce636",
   "metadata": {},
   "outputs": [],
   "source": [
    "l =[1,2,3,4,45,5]\n",
    "\n",
    "def sq(x):\n",
    "    return x**2"
   ]
  },
  {
   "cell_type": "code",
   "execution_count": 3,
   "id": "c13bcb6f-6b99-43f3-83e8-1d9fa9a7590b",
   "metadata": {},
   "outputs": [
    {
     "data": {
      "text/plain": [
       "[1, 4, 9, 16, 2025, 25]"
      ]
     },
     "execution_count": 3,
     "metadata": {},
     "output_type": "execute_result"
    }
   ],
   "source": [
    "#-- Returning square of every element in the list\n",
    "list(map(sq,l))"
   ]
  },
  {
   "cell_type": "code",
   "execution_count": 4,
   "id": "f1d72e8c-a695-439c-9cea-5fc4dcfa93c3",
   "metadata": {},
   "outputs": [
    {
     "data": {
      "text/plain": [
       "[1, 4, 9, 16, 2025, 25]"
      ]
     },
     "execution_count": 4,
     "metadata": {},
     "output_type": "execute_result"
    }
   ],
   "source": [
    "## -- We can also write this fucntion in one line using lambda function\n",
    "list(map(lambda x :x**2,l))\n"
   ]
  },
  {
   "cell_type": "code",
   "execution_count": 5,
   "id": "5ec24dfe-73be-44e0-8486-4f18ed276773",
   "metadata": {},
   "outputs": [
    {
     "data": {
      "text/plain": [
       "['1', '2', '3', '4', '45', '5']"
      ]
     },
     "execution_count": 5,
     "metadata": {},
     "output_type": "execute_result"
    }
   ],
   "source": [
    "## we can also convert every element into string\n",
    "list(map(lambda x :str(x),l))"
   ]
  },
  {
   "cell_type": "code",
   "execution_count": 6,
   "id": "f06c34a4-0987-40dd-a2c7-47ddb7615e48",
   "metadata": {},
   "outputs": [],
   "source": [
    "l1=[1,2,3,4,5]\n",
    "l2=[6,7,8,9,10]"
   ]
  },
  {
   "cell_type": "code",
   "execution_count": 8,
   "id": "3e57a768-02f8-4018-b622-4b8b1e8309cb",
   "metadata": {},
   "outputs": [
    {
     "data": {
      "text/plain": [
       "[7, 9, 11, 13, 15]"
      ]
     },
     "execution_count": 8,
     "metadata": {},
     "output_type": "execute_result"
    }
   ],
   "source": [
    "## Adding element of both lists\n",
    "list(map(lambda x,y : x+y,l1,l2))"
   ]
  },
  {
   "cell_type": "code",
   "execution_count": 1,
   "id": "74dcabba-56e7-462c-ac17-36c49f8e89cd",
   "metadata": {},
   "outputs": [
    {
     "data": {
      "text/plain": [
       "['P', 'R', 'O', 'G', 'R', 'A', 'M', 'M', 'I', 'N', 'G']"
      ]
     },
     "execution_count": 1,
     "metadata": {},
     "output_type": "execute_result"
    }
   ],
   "source": [
    "##- Separate all the character and return the characters in a list by converting it in uppercase\n",
    "s = \"programming\"\n",
    "list(map(lambda x :x.upper(),s))"
   ]
  },
  {
   "cell_type": "markdown",
   "id": "5bcca26a-60b7-466f-8f9e-4867d108e000",
   "metadata": {},
   "source": [
    "## Reduce:\n",
    "  - Reduce function is not available directly, we have to import it from functools\n",
    "  - It reduces the entire iterable.\n",
    "  - Its always better to take only two argument while using reduce function."
   ]
  },
  {
   "cell_type": "code",
   "execution_count": 3,
   "id": "066f75dc-a267-4105-8171-150d40f65be5",
   "metadata": {},
   "outputs": [],
   "source": [
    "from functools import reduce\n",
    "l=[1,2,3,4,5,4]"
   ]
  },
  {
   "cell_type": "code",
   "execution_count": 3,
   "id": "6f0f18db-3781-4ae4-a8c7-80cc408e29d2",
   "metadata": {},
   "outputs": [
    {
     "data": {
      "text/plain": [
       "19"
      ]
     },
     "execution_count": 3,
     "metadata": {},
     "output_type": "execute_result"
    }
   ],
   "source": [
    "## Sum of all the element in the list\n",
    "reduce(lambda x,y : x+y,l)"
   ]
  },
  {
   "cell_type": "code",
   "execution_count": 4,
   "id": "1f1a1b62-f726-4a8d-a43f-7db4058500cf",
   "metadata": {},
   "outputs": [
    {
     "data": {
      "text/plain": [
       "[1, 2, 3, 4, 5, 4]"
      ]
     },
     "execution_count": 4,
     "metadata": {},
     "output_type": "execute_result"
    }
   ],
   "source": [
    "## Finding the maximum element in the entire list using reduce function\n",
    "l"
   ]
  },
  {
   "cell_type": "code",
   "execution_count": 5,
   "id": "97581880-ba47-423e-8a7d-cf96e97d4e0a",
   "metadata": {},
   "outputs": [
    {
     "data": {
      "text/plain": [
       "5"
      ]
     },
     "execution_count": 5,
     "metadata": {},
     "output_type": "execute_result"
    }
   ],
   "source": [
    "reduce(lambda x,y :x if x>y else y , l)"
   ]
  },
  {
   "cell_type": "markdown",
   "id": "9deaffc6-a92b-4599-be5a-3b986fded83d",
   "metadata": {},
   "source": [
    "## Filter:\n",
    "  - Filter function is used to filter the elements from the list"
   ]
  },
  {
   "cell_type": "code",
   "execution_count": 6,
   "id": "9f19e984-9024-4c0f-afd4-6d396a52bc11",
   "metadata": {},
   "outputs": [
    {
     "data": {
      "text/plain": [
       "[1, 2, 3, 4, 5, 4]"
      ]
     },
     "execution_count": 6,
     "metadata": {},
     "output_type": "execute_result"
    }
   ],
   "source": [
    "l"
   ]
  },
  {
   "cell_type": "code",
   "execution_count": 7,
   "id": "e8b79d9b-a461-4ceb-95dc-f7e8a3c1e8d8",
   "metadata": {},
   "outputs": [],
   "source": [
    "## Filter only  Even function using filter function"
   ]
  },
  {
   "cell_type": "code",
   "execution_count": 8,
   "id": "17914741-6902-4262-9a1d-95551bc7be8a",
   "metadata": {},
   "outputs": [
    {
     "data": {
      "text/plain": [
       "[2, 4, 4]"
      ]
     },
     "execution_count": 8,
     "metadata": {},
     "output_type": "execute_result"
    }
   ],
   "source": [
    "list(filter(lambda x : x%2 ==0,l))"
   ]
  },
  {
   "cell_type": "code",
   "execution_count": 9,
   "id": "93a43de6-f8e1-409b-8947-09b5f7f87063",
   "metadata": {},
   "outputs": [
    {
     "data": {
      "text/plain": [
       "[4, 5, 6]"
      ]
     },
     "execution_count": 9,
     "metadata": {},
     "output_type": "execute_result"
    }
   ],
   "source": [
    "## Filter only positive number from the list \n",
    "lst=[-2,4,5,6,-3,-6,-8]\n",
    "list(filter(lambda x : x>0,lst))"
   ]
  },
  {
   "cell_type": "code",
   "execution_count": 10,
   "id": "0d37642f-64b0-4bc7-8001-e96b3f1a9584",
   "metadata": {},
   "outputs": [
    {
     "data": {
      "text/plain": [
       "[-2, -3, -6, -8]"
      ]
     },
     "execution_count": 10,
     "metadata": {},
     "output_type": "execute_result"
    }
   ],
   "source": [
    "# Extracting negative number using filter\n",
    "list(filter(lambda x :x<0,lst))"
   ]
  },
  {
   "cell_type": "code",
   "execution_count": 11,
   "id": "36f0edde-10de-409e-8c63-f7ace6541aab",
   "metadata": {},
   "outputs": [
    {
     "data": {
      "text/plain": [
       "['anmol', 'jammu']"
      ]
     },
     "execution_count": 11,
     "metadata": {},
     "output_type": "execute_result"
    }
   ],
   "source": [
    "## Extract those string whose length is lesser than 6\n",
    "l2=[\"anmol\",\"programming\",\"kangra\",\"jammu\",\"bengalore\"]\n",
    "list(filter(lambda x : len(x)<6,l2))"
   ]
  },
  {
   "cell_type": "code",
   "execution_count": null,
   "id": "b2d964bb-64d1-4569-832d-dc69b8b5882b",
   "metadata": {},
   "outputs": [],
   "source": []
  }
 ],
 "metadata": {
  "kernelspec": {
   "display_name": "Python 3 (ipykernel)",
   "language": "python",
   "name": "python3"
  },
  "language_info": {
   "codemirror_mode": {
    "name": "ipython",
    "version": 3
   },
   "file_extension": ".py",
   "mimetype": "text/x-python",
   "name": "python",
   "nbconvert_exporter": "python",
   "pygments_lexer": "ipython3",
   "version": "3.10.8"
  }
 },
 "nbformat": 4,
 "nbformat_minor": 5
}
