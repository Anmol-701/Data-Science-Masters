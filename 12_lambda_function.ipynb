{
 "cells": [
  {
   "cell_type": "markdown",
   "id": "87233468-f98b-439f-8e5a-0d0bd201a045",
   "metadata": {},
   "source": [
    "## Lambda_Function:\n",
    "  - Lambda is special type of function wihtout function name (Anonymous).\n",
    "  - To declare a lambda function we use lambda keyword instead of def\n",
    "\n",
    "### Syntax:\n",
    " ### lambda argument(s) : expression\n"
   ]
  },
  {
   "cell_type": "code",
   "execution_count": 1,
   "id": "569b0aeb-4f85-47b2-a19c-3e9ae7502738",
   "metadata": {},
   "outputs": [],
   "source": [
    "## Powe\n",
    "a=lambda n,p : n**p"
   ]
  },
  {
   "cell_type": "code",
   "execution_count": 2,
   "id": "cfd3452a-670a-4a23-a7ae-3efd78e6060f",
   "metadata": {},
   "outputs": [
    {
     "data": {
      "text/plain": [
       "9"
      ]
     },
     "execution_count": 2,
     "metadata": {},
     "output_type": "execute_result"
    }
   ],
   "source": [
    "a(3,2)"
   ]
  },
  {
   "cell_type": "code",
   "execution_count": 3,
   "id": "8d0b17b5-c0b1-45db-87b5-8bbc1f46f24b",
   "metadata": {},
   "outputs": [
    {
     "data": {
      "text/plain": [
       "6561"
      ]
     },
     "execution_count": 3,
     "metadata": {},
     "output_type": "execute_result"
    }
   ],
   "source": [
    "a(9,4)"
   ]
  },
  {
   "cell_type": "code",
   "execution_count": 5,
   "id": "786f0ec9-861c-4ad9-852a-9fa0750355c2",
   "metadata": {},
   "outputs": [
    {
     "data": {
      "text/plain": [
       "9"
      ]
     },
     "execution_count": 5,
     "metadata": {},
     "output_type": "execute_result"
    }
   ],
   "source": [
    "## Addition function using lambda\n",
    "add = lambda x,y :x+y\n",
    "add(5,4)"
   ]
  },
  {
   "cell_type": "code",
   "execution_count": 10,
   "id": "62dd29cf-4068-47e2-a309-2b81ede22fa0",
   "metadata": {},
   "outputs": [
    {
     "data": {
      "text/plain": [
       "93.2"
      ]
     },
     "execution_count": 10,
     "metadata": {},
     "output_type": "execute_result"
    }
   ],
   "source": [
    "## Converting celsius to fahrenheit using lambda function\n",
    "c_to_f=lambda c : (9/5)*c+32\n",
    "c_to_f(34)\n"
   ]
  },
  {
   "cell_type": "code",
   "execution_count": 11,
   "id": "6778fcd4-c4ab-4a21-a30d-ef5ac2ee8aa5",
   "metadata": {},
   "outputs": [
    {
     "data": {
      "text/plain": [
       "254"
      ]
     },
     "execution_count": 11,
     "metadata": {},
     "output_type": "execute_result"
    }
   ],
   "source": [
    "## Finding maximum between two numbers using lambda function\n",
    "max_two = lambda x,y :x if x>y else y\n",
    "max_two(4,254)"
   ]
  },
  {
   "cell_type": "code",
   "execution_count": 12,
   "id": "19ea15be-399f-42b4-8e06-6155ac8bfb1f",
   "metadata": {},
   "outputs": [],
   "source": [
    "## finding lenth of the string using lambda function\n",
    "s=\"anmol\""
   ]
  },
  {
   "cell_type": "code",
   "execution_count": 13,
   "id": "cd20cdde-7fe9-408a-b584-c273df7c6a96",
   "metadata": {},
   "outputs": [],
   "source": [
    "len_st=lambda s : len(s)"
   ]
  },
  {
   "cell_type": "code",
   "execution_count": 14,
   "id": "f396e8af-e77a-4db9-9fd3-001ea5ad4612",
   "metadata": {},
   "outputs": [
    {
     "data": {
      "text/plain": [
       "5"
      ]
     },
     "execution_count": 14,
     "metadata": {},
     "output_type": "execute_result"
    }
   ],
   "source": [
    "len_st(s)"
   ]
  },
  {
   "cell_type": "code",
   "execution_count": null,
   "id": "a8d0058a-2109-470d-96fb-d55641c6adcc",
   "metadata": {},
   "outputs": [],
   "source": []
  }
 ],
 "metadata": {
  "kernelspec": {
   "display_name": "Python 3 (ipykernel)",
   "language": "python",
   "name": "python3"
  },
  "language_info": {
   "codemirror_mode": {
    "name": "ipython",
    "version": 3
   },
   "file_extension": ".py",
   "mimetype": "text/x-python",
   "name": "python",
   "nbconvert_exporter": "python",
   "pygments_lexer": "ipython3",
   "version": "3.10.8"
  }
 },
 "nbformat": 4,
 "nbformat_minor": 5
}
