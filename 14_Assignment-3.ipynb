{
 "cells": [
  {
   "cell_type": "markdown",
   "id": "54ff0543-18a1-496f-b508-31ce5ae4fd74",
   "metadata": {},
   "source": [
    "## Assignment-3"
   ]
  },
  {
   "cell_type": "markdown",
   "id": "98c93e9e-a446-4a7a-b2f1-284987eb25b9",
   "metadata": {},
   "source": [
    "## Problem_1: Which keyword is used to create a function?Create a function to return a list odd numbers in the range of 1 to 25."
   ]
  },
  {
   "cell_type": "code",
   "execution_count": 11,
   "id": "8cbba0e9-aa0a-4983-a0ad-0800f3ec9675",
   "metadata": {},
   "outputs": [
    {
     "data": {
      "text/plain": [
       "[1, 3, 5, 7, 9, 11, 13, 15, 17, 19, 21, 23, 25]"
      ]
     },
     "execution_count": 11,
     "metadata": {},
     "output_type": "execute_result"
    }
   ],
   "source": [
    "## def keyword is used to create a function\n",
    "def fun():\n",
    "    odd_number=[]\n",
    "    for i in range(1,26):\n",
    "        if i%2!=0:\n",
    "            odd_number.append(i)\n",
    "    return odd_number\n",
    "fun()\n"
   ]
  },
  {
   "cell_type": "markdown",
   "id": "8805e243-aabc-46cb-96fa-5f969f4f312c",
   "metadata": {},
   "source": [
    "## Problem_2:Why *args and **kwargs is used in some functions?Create a function each for *args and **kwargs to demostrate their use."
   ]
  },
  {
   "cell_type": "markdown",
   "id": "95bbc74b-da24-475a-99b9-7ff003b7a4f1",
   "metadata": {},
   "source": [
    "### Args:\n",
    "  - suppose we don't know that how many values user will going to pass to our function in that situation we use args.\n",
    "  - args is not a keyword we can use any word instead of args"
   ]
  },
  {
   "cell_type": "code",
   "execution_count": 12,
   "id": "e1a7b819-67fa-4e44-b3e7-1d0eada60f7d",
   "metadata": {},
   "outputs": [
    {
     "data": {
      "text/plain": [
       "(1, 2, 3, 4, 5, 6, 7)"
      ]
     },
     "execution_count": 12,
     "metadata": {},
     "output_type": "execute_result"
    }
   ],
   "source": [
    "def arg_fun(*args):\n",
    "    return args\n",
    "arg_fun(1,2,3,4,5,6,7) ## Now you can pass number of values to this function"
   ]
  },
  {
   "cell_type": "code",
   "execution_count": 14,
   "id": "0e6a060d-512a-48e9-acf1-1460dea42434",
   "metadata": {},
   "outputs": [
    {
     "data": {
      "text/plain": [
       "(1, 2, 3, 4, 32, 2, 3, 542, 64, 82)"
      ]
     },
     "execution_count": 14,
     "metadata": {},
     "output_type": "execute_result"
    }
   ],
   "source": [
    "arg_fun(1,2,3,4,32,2,3,542,64,82)"
   ]
  },
  {
   "cell_type": "markdown",
   "id": "39f61ce0-e335-4789-aafa-63455e3d0f37",
   "metadata": {},
   "source": [
    "### kwargs:\n",
    "  - It is also like args and also take n number of input but in form of key and value pair.\n",
    "  - kwargs is not a keyword we can use any word in place of kwargs.\n",
    "  - The data we passing to kwargs will be in the form of dictionary."
   ]
  },
  {
   "cell_type": "code",
   "execution_count": 19,
   "id": "b02be4d4-86ca-4615-9dbc-0521440c2492",
   "metadata": {},
   "outputs": [
    {
     "name": "stdout",
     "output_type": "stream",
     "text": [
      "{'name': 'Anmol', 'Age': 20, 'city': 'Kangra'}\n"
     ]
    }
   ],
   "source": [
    "def kwargs_fun(**kwargs):\n",
    "    print (kwargs)\n",
    "kwargs_fun(name=\"Anmol\",Age=20,city=\"Kangra\")"
   ]
  },
  {
   "cell_type": "code",
   "execution_count": 23,
   "id": "e1931a45-ae3f-4844-bc00-34394e7d6269",
   "metadata": {},
   "outputs": [
    {
     "name": "stdout",
     "output_type": "stream",
     "text": [
      "{'country': 'India'}\n"
     ]
    }
   ],
   "source": [
    "kwargs_fun(country=\"India\")"
   ]
  },
  {
   "cell_type": "markdown",
   "id": "6970c265-4eca-407d-b185-4f3720e5350d",
   "metadata": {},
   "source": [
    "## Problem_3: What is an iterator in python? Name the method used to initialize the iterator object and the method used for iterator. Use these methods to print the first five elements of the given list[2,4,6,8,10,12,14,16,18,20]."
   ]
  },
  {
   "cell_type": "code",
   "execution_count": 28,
   "id": "5df100b2-f50a-4966-8dab-e711b3da1ace",
   "metadata": {},
   "outputs": [
    {
     "name": "stdout",
     "output_type": "stream",
     "text": [
      "2\n",
      "4\n",
      "6\n",
      "8\n",
      "10\n"
     ]
    }
   ],
   "source": [
    "##-Iterators are used to iterate over a sequence of elements, such as lists, tuples and provide a way to access the element one by one\n",
    "## There are two methods __iter__() which is used to initialize an iterator object and __next__() which is used to fetch the next element from the iterator.\n",
    "\n",
    "lst=[2,4,6,8,10,12,14,16,18,20]\n",
    "lst_iterator=iter(lst)\n",
    "\n",
    "for i in range(5):\n",
    "    element=next(lst_iterator)\n",
    "    print(element)"
   ]
  },
  {
   "cell_type": "markdown",
   "id": "26556bbe-0cfb-4c9b-81b1-647cbc7506f2",
   "metadata": {},
   "source": [
    "## Problem_4: What is generator function in python?Why yield keyword is used? Give an example of generator function."
   ]
  },
  {
   "cell_type": "code",
   "execution_count": 30,
   "id": "54c63c6a-691d-4250-aaaa-e92d80ff0684",
   "metadata": {},
   "outputs": [
    {
     "name": "stdout",
     "output_type": "stream",
     "text": [
      "2\n",
      "4\n",
      "6\n",
      "8\n",
      "10\n"
     ]
    }
   ],
   "source": [
    "##- A Generator is a function that returns an iterator that produces a sequence of values when iterated over.\n",
    "##- We can use generator when we have to generate large sequence of values and we don't want to store all of them in memory at once\n",
    "##- In generator function instead of returning we use yield statemant\n",
    "##- The yield keyword is used to produce a value from the generator.\n",
    "def generate_even_numbers():\n",
    "    for num in range(2,11,2):\n",
    "        yield num\n",
    "# using generator function to iterate over the sequence\n",
    "\n",
    "even_generator= generate_even_numbers()\n",
    "for num in even_generator:\n",
    "    print(num)\n",
    "    "
   ]
  },
  {
   "cell_type": "markdown",
   "id": "054c6b6d-6f9b-4c69-9dd6-c0be4c47cc72",
   "metadata": {},
   "source": [
    "## Problem_5: Create a generator function for prime numbers less than 1000.Use the next() method to print the first 20 prime numbers.\n"
   ]
  },
  {
   "cell_type": "code",
   "execution_count": 3,
   "id": "6a6ca04f-5af4-45eb-b31c-fb6e7257b6ac",
   "metadata": {},
   "outputs": [
    {
     "name": "stdout",
     "output_type": "stream",
     "text": [
      "2\n",
      "3\n",
      "5\n",
      "7\n",
      "11\n",
      "13\n",
      "17\n",
      "19\n",
      "23\n",
      "29\n",
      "31\n",
      "37\n",
      "41\n",
      "43\n",
      "47\n",
      "53\n",
      "59\n",
      "61\n",
      "67\n",
      "71\n",
      "73\n",
      "79\n",
      "83\n",
      "89\n",
      "97\n",
      "101\n",
      "103\n",
      "107\n",
      "109\n",
      "113\n",
      "127\n",
      "131\n",
      "137\n",
      "139\n",
      "149\n",
      "151\n",
      "157\n",
      "163\n",
      "167\n",
      "173\n",
      "179\n",
      "181\n",
      "191\n",
      "193\n",
      "197\n",
      "199\n",
      "211\n",
      "223\n",
      "227\n",
      "229\n",
      "233\n",
      "239\n",
      "241\n",
      "251\n",
      "257\n",
      "263\n",
      "269\n",
      "271\n",
      "277\n",
      "281\n",
      "283\n",
      "293\n",
      "307\n",
      "311\n",
      "313\n",
      "317\n",
      "331\n",
      "337\n",
      "347\n",
      "349\n",
      "353\n",
      "359\n",
      "367\n",
      "373\n",
      "379\n",
      "383\n",
      "389\n",
      "397\n",
      "401\n",
      "409\n",
      "419\n",
      "421\n",
      "431\n",
      "433\n",
      "439\n",
      "443\n",
      "449\n",
      "457\n",
      "461\n",
      "463\n",
      "467\n",
      "479\n",
      "487\n",
      "491\n",
      "499\n",
      "503\n",
      "509\n",
      "521\n",
      "523\n",
      "541\n",
      "547\n",
      "557\n",
      "563\n",
      "569\n",
      "571\n",
      "577\n",
      "587\n",
      "593\n",
      "599\n",
      "601\n",
      "607\n",
      "613\n",
      "617\n",
      "619\n",
      "631\n",
      "641\n",
      "643\n",
      "647\n",
      "653\n",
      "659\n",
      "661\n",
      "673\n",
      "677\n",
      "683\n",
      "691\n",
      "701\n",
      "709\n",
      "719\n",
      "727\n",
      "733\n",
      "739\n",
      "743\n",
      "751\n",
      "757\n",
      "761\n",
      "769\n",
      "773\n",
      "787\n",
      "797\n",
      "809\n",
      "811\n",
      "821\n",
      "823\n",
      "827\n",
      "829\n",
      "839\n",
      "853\n",
      "857\n",
      "859\n",
      "863\n",
      "877\n",
      "881\n",
      "883\n",
      "887\n",
      "907\n",
      "911\n",
      "919\n",
      "929\n",
      "937\n",
      "941\n",
      "947\n",
      "953\n",
      "967\n",
      "971\n",
      "977\n",
      "983\n",
      "991\n",
      "997\n"
     ]
    },
    {
     "ename": "StopIteration",
     "evalue": "",
     "output_type": "error",
     "traceback": [
      "\u001b[0;31m---------------------------------------------------------------------------\u001b[0m",
      "\u001b[0;31mStopIteration\u001b[0m                             Traceback (most recent call last)",
      "Cell \u001b[0;32mIn[3], line 21\u001b[0m\n\u001b[1;32m     19\u001b[0m \u001b[38;5;66;03m# Printing the First 20 Prime numbers\u001b[39;00m\n\u001b[1;32m     20\u001b[0m \u001b[38;5;28;01mfor\u001b[39;00m _ \u001b[38;5;129;01min\u001b[39;00m \u001b[38;5;28mrange\u001b[39m(\u001b[38;5;241m1000\u001b[39m):\n\u001b[0;32m---> 21\u001b[0m     \u001b[38;5;28mprint\u001b[39m(\u001b[38;5;28;43mnext\u001b[39;49m\u001b[43m(\u001b[49m\u001b[43mprime_gen\u001b[49m\u001b[43m)\u001b[49m)\n",
      "\u001b[0;31mStopIteration\u001b[0m: "
     ]
    }
   ],
   "source": [
    "def is_prime(n):\n",
    "    if n < 2:\n",
    "        return False\n",
    "    for i in range(2, int(n**0.5) + 1):\n",
    "        if n % i == 0:\n",
    "            return False\n",
    "    return True\n",
    "\n",
    "def prime_generator():\n",
    "    num = 2\n",
    "    while num < 1000:\n",
    "        if is_prime(num):\n",
    "            yield num\n",
    "        num += 1\n",
    "\n",
    "# Creating a Generator\n",
    "prime_gen = prime_generator()\n",
    "\n",
    "# Printing the First 20 Prime numbers\n",
    "for _ in range(1000):\n",
    "    print(next(prime_gen))\n"
   ]
  },
  {
   "cell_type": "code",
   "execution_count": null,
   "id": "9a2efd33-b2af-4806-abb6-3ed5048c70ec",
   "metadata": {},
   "outputs": [],
   "source": []
  }
 ],
 "metadata": {
  "kernelspec": {
   "display_name": "Python 3 (ipykernel)",
   "language": "python",
   "name": "python3"
  },
  "language_info": {
   "codemirror_mode": {
    "name": "ipython",
    "version": 3
   },
   "file_extension": ".py",
   "mimetype": "text/x-python",
   "name": "python",
   "nbconvert_exporter": "python",
   "pygments_lexer": "ipython3",
   "version": "3.10.8"
  }
 },
 "nbformat": 4,
 "nbformat_minor": 5
}
