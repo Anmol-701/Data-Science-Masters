{
 "cells": [
  {
   "cell_type": "markdown",
   "id": "33b5e383-e9fd-4bd1-b1f5-a64d2a396e4a",
   "metadata": {},
   "source": [
    "## Tuples:  It is type of Data Structure in which we store similar type of data."
   ]
  },
  {
   "cell_type": "code",
   "execution_count": 1,
   "id": "02928f9b-1ad0-4575-853a-b77ddd0b59cd",
   "metadata": {},
   "outputs": [
    {
     "data": {
      "text/plain": [
       "tuple"
      ]
     },
     "execution_count": 1,
     "metadata": {},
     "output_type": "execute_result"
    }
   ],
   "source": [
    "t= ()\n",
    "type(t)"
   ]
  },
  {
   "cell_type": "code",
   "execution_count": 2,
   "id": "f472e1d3-f860-41e2-8eb0-2d5c1c4deba3",
   "metadata": {},
   "outputs": [],
   "source": [
    "t1= (1,2,3,4,5,\"sudh\",True)"
   ]
  },
  {
   "cell_type": "code",
   "execution_count": 3,
   "id": "52b04cbe-bd8d-4cc6-a94f-7380dafaec4d",
   "metadata": {},
   "outputs": [
    {
     "data": {
      "text/plain": [
       "tuple"
      ]
     },
     "execution_count": 3,
     "metadata": {},
     "output_type": "execute_result"
    }
   ],
   "source": [
    "type(t1)"
   ]
  },
  {
   "cell_type": "markdown",
   "id": "315dab48-73e7-4682-aba0-c1e3a32548e4",
   "metadata": {},
   "source": [
    "### we can also reverse the tuple "
   ]
  },
  {
   "cell_type": "code",
   "execution_count": 5,
   "id": "8d55cb61-0cd8-426e-ab3f-cc78a4c30a5b",
   "metadata": {},
   "outputs": [
    {
     "data": {
      "text/plain": [
       "(True, 'sudh', 5, 4, 3, 2, 1)"
      ]
     },
     "execution_count": 5,
     "metadata": {},
     "output_type": "execute_result"
    }
   ],
   "source": [
    "t1[::-1]"
   ]
  },
  {
   "cell_type": "code",
   "execution_count": 7,
   "id": "1a2da5ae-4f64-46c7-9324-313cae8f75bb",
   "metadata": {},
   "outputs": [
    {
     "data": {
      "text/plain": [
       "1"
      ]
     },
     "execution_count": 7,
     "metadata": {},
     "output_type": "execute_result"
    }
   ],
   "source": [
    "t1.count(4) #--Will return number of occurance of 4"
   ]
  },
  {
   "cell_type": "markdown",
   "id": "953cddf1-9dc9-4afb-ae00-e308e52a5da7",
   "metadata": {},
   "source": [
    "### The main difference between list and tuple is mutability. Tuples are basically Immutability concepts where it is not going to allow to change any element at a particular index"
   ]
  },
  {
   "cell_type": "code",
   "execution_count": 8,
   "id": "3248bd0c-e763-4347-8fe1-2617cdddb86d",
   "metadata": {},
   "outputs": [
    {
     "data": {
      "text/plain": [
       "(1, 2, 3, 4, 5, 'sudh', True)"
      ]
     },
     "execution_count": 8,
     "metadata": {},
     "output_type": "execute_result"
    }
   ],
   "source": [
    "t1"
   ]
  },
  {
   "cell_type": "code",
   "execution_count": 10,
   "id": "6429d521-9700-4d29-b937-d6f5ea311470",
   "metadata": {},
   "outputs": [],
   "source": [
    "## We cannot change any element of tuple\n",
    "# t1[0]=3 --This will display an error"
   ]
  },
  {
   "cell_type": "code",
   "execution_count": 12,
   "id": "9b6f1f8a-6737-44a4-921b-36a02988d47b",
   "metadata": {},
   "outputs": [
    {
     "data": {
      "text/plain": [
       "((1, 2, 3), (4, 5, 6))"
      ]
     },
     "execution_count": 12,
     "metadata": {},
     "output_type": "execute_result"
    }
   ],
   "source": [
    "## Here we are adding two tuples in single tuple\n",
    "t1 = (1,2,3)\n",
    "t2= (4,5,6)\n",
    "\n",
    "t3 =(t1,t2)\n",
    "t3"
   ]
  },
  {
   "cell_type": "code",
   "execution_count": 13,
   "id": "3bd96b7a-68fc-4774-9381-3f5774e7c455",
   "metadata": {},
   "outputs": [
    {
     "data": {
      "text/plain": [
       "True"
      ]
     },
     "execution_count": 13,
     "metadata": {},
     "output_type": "execute_result"
    }
   ],
   "source": [
    "## checking Whether the element is present in the list or not\n",
    "\n",
    "tuple_1=(1,2,3,5,\"Anmol\",True,43.5)\n",
    "5 in tuple_1"
   ]
  },
  {
   "cell_type": "code",
   "execution_count": null,
   "id": "ae687bc0-7421-4b02-86fd-b9d4a516897e",
   "metadata": {},
   "outputs": [],
   "source": []
  }
 ],
 "metadata": {
  "kernelspec": {
   "display_name": "Python 3 (ipykernel)",
   "language": "python",
   "name": "python3"
  },
  "language_info": {
   "codemirror_mode": {
    "name": "ipython",
    "version": 3
   },
   "file_extension": ".py",
   "mimetype": "text/x-python",
   "name": "python",
   "nbconvert_exporter": "python",
   "pygments_lexer": "ipython3",
   "version": "3.10.8"
  }
 },
 "nbformat": 4,
 "nbformat_minor": 5
}
