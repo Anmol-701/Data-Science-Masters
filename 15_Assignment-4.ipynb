{
 "cells": [
  {
   "cell_type": "markdown",
   "id": "166e79a2-dc16-4c67-8b80-5c52313bdce5",
   "metadata": {},
   "source": [
    "### Problem_1: Create a python program to sort the given list of tuples based on integer value using a lambda function\n",
    "### [('Sachin Tendulkar',34357),('Ricky Ponting',27483),('Jack Kallis',25534),('Virat Kohli',24936)]"
   ]
  },
  {
   "cell_type": "code",
   "execution_count": 3,
   "id": "79f883d4-1ce2-40a7-bc6a-9391b8b5fcc8",
   "metadata": {},
   "outputs": [
    {
     "name": "stdout",
     "output_type": "stream",
     "text": [
      "('Virat Kohli', 24936)\n",
      "('Jack Kallis', 25534)\n",
      "('Ricky Ponting', 27483)\n",
      "('Sachin Tendulkar', 34357)\n"
     ]
    }
   ],
   "source": [
    "lst=[('Sachin Tendulkar',34357),('Ricky Ponting',27483),('Jack Kallis',25534),('Virat Kohli',24936)]\n",
    "\n",
    "sorted_data=sorted(lst, key=lambda x: x[1])\n",
    "\n",
    "for items in sorted_data:\n",
    "    print(items)"
   ]
  },
  {
   "cell_type": "markdown",
   "id": "8f3ed983-9712-4dc4-921f-ca0571c146f8",
   "metadata": {},
   "source": [
    "### Problem_2: Write a python program to find the squares of all the numbers in the given list of integers using lambda and map functions.\n",
    "### [1,2,3,4,5,6,7,8,9,10]"
   ]
  },
  {
   "cell_type": "code",
   "execution_count": 2,
   "id": "45ca915c-1fca-4334-a9fd-59b157d92649",
   "metadata": {},
   "outputs": [
    {
     "name": "stdout",
     "output_type": "stream",
     "text": [
      "[1, 4, 9, 16, 25, 36, 49, 64, 81, 100]\n"
     ]
    }
   ],
   "source": [
    "given_lst=[1,2,3,4,5,6,7,8,9,10]\n",
    "\n",
    "squares= list(map(lambda x: x**2, given_lst))\n",
    "print(squares)"
   ]
  },
  {
   "cell_type": "markdown",
   "id": "30c0ce71-27ec-4476-89ea-df541e63e877",
   "metadata": {},
   "source": [
    "### Problem_3: Write a python program to convert the given list of integers into a tuple of string. Use map and lambda function.\n",
    "### Given_list: [1,2,3,4,5,6,7,8,9,10]\n",
    "### Expected_output: ('1','2','3','4','5','6','7','8','9','10')"
   ]
  },
  {
   "cell_type": "code",
   "execution_count": 4,
   "id": "e91fd7e0-924e-4dc3-b4dd-471c5e3d19d2",
   "metadata": {},
   "outputs": [
    {
     "name": "stdout",
     "output_type": "stream",
     "text": [
      "('1', '2', '3', '4', '5', '6', '7', '8', '9', '10')\n"
     ]
    }
   ],
   "source": [
    "Given_list=[1,2,3,4,5,6,7,8,9,10]\n",
    "\n",
    "converted_tuple= tuple(map(lambda x: str(x),Given_list))\n",
    "print(converted_tuple)"
   ]
  },
  {
   "cell_type": "markdown",
   "id": "6bacf999-3a8a-4db7-a5b9-207033c0cb3d",
   "metadata": {},
   "source": [
    "### Problem_4: Write a python program using reduce function to compute the product of a list containing numbers from 1 to 25"
   ]
  },
  {
   "cell_type": "code",
   "execution_count": 9,
   "id": "3f40275e-4cfd-4a00-aef1-60245ce7b532",
   "metadata": {},
   "outputs": [
    {
     "name": "stdout",
     "output_type": "stream",
     "text": [
      "15511210043330985984000000\n"
     ]
    }
   ],
   "source": [
    "from functools import reduce\n",
    "numbers = list(range(1,26))\n",
    "\n",
    "product=reduce(lambda x,y: x*y,numbers)\n",
    "print(product)"
   ]
  },
  {
   "cell_type": "markdown",
   "id": "40272435-8f0b-4b83-96a2-290dd652facb",
   "metadata": {},
   "source": [
    "### Problem_5: Write a python program to filter the numbers in a given list that are divisible by 2 and 3 using the filter function.\n",
    "### [2,3,6,9,27,60,90,120,55,46]"
   ]
  },
  {
   "cell_type": "code",
   "execution_count": 10,
   "id": "994bc932-64f6-40b5-ac98-60b7ef70d345",
   "metadata": {},
   "outputs": [
    {
     "name": "stdout",
     "output_type": "stream",
     "text": [
      "[6, 60, 90, 120]\n"
     ]
    }
   ],
   "source": [
    "Given_list=[2,3,6,9,27,60,90,120,55,46]\n",
    "\n",
    "filtered_list= list(filter(lambda x: x%2==0 and x%3==0, Given_list))\n",
    "print(filtered_list)"
   ]
  },
  {
   "cell_type": "markdown",
   "id": "372a20bd-509b-4084-85fa-76d51c7f164d",
   "metadata": {},
   "source": [
    "### Problem_6: Write a python program to find palindromes in the given list of strings using lambda and filter function.\n",
    "### ['python','php','aba','radar','level']"
   ]
  },
  {
   "cell_type": "code",
   "execution_count": 12,
   "id": "ab776adc-8def-4f17-a86b-351c0f972d4c",
   "metadata": {},
   "outputs": [
    {
     "name": "stdout",
     "output_type": "stream",
     "text": [
      "['php', 'aba', 'radar', 'level']\n"
     ]
    }
   ],
   "source": [
    "Given_list=['python','php','aba','radar','level']\n",
    "\n",
    "palindromes=list(filter(lambda x: x == x[::-1],Given_list))\n",
    "print(palindromes)"
   ]
  },
  {
   "cell_type": "code",
   "execution_count": null,
   "id": "c1d9bd13-c6ee-4673-bfdf-f6aceb118fb7",
   "metadata": {},
   "outputs": [],
   "source": []
  }
 ],
 "metadata": {
  "kernelspec": {
   "display_name": "Python 3 (ipykernel)",
   "language": "python",
   "name": "python3"
  },
  "language_info": {
   "codemirror_mode": {
    "name": "ipython",
    "version": 3
   },
   "file_extension": ".py",
   "mimetype": "text/x-python",
   "name": "python",
   "nbconvert_exporter": "python",
   "pygments_lexer": "ipython3",
   "version": "3.10.8"
  }
 },
 "nbformat": 4,
 "nbformat_minor": 5
}
