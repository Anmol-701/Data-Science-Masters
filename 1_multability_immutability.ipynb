{
 "cells": [
  {
   "cell_type": "markdown",
   "id": "c4d6ee2a-89c4-4a88-ac95-33881598395d",
   "metadata": {},
   "source": [
    "## Mutability - Mutable Data Types are those whose value can be changed after they are created\n",
    "### Example:\n",
    "   - List\n",
    "   - Dictionaries\n",
    "## Immutability - Immutable Data Types are those whose value cannot be changes after they are created\n",
    "### Example:\n",
    "   - Strings\n",
    "   - Tuples"
   ]
  },
  {
   "cell_type": "code",
   "execution_count": 2,
   "id": "8731333c-b377-4249-835c-d6f32a4c5477",
   "metadata": {},
   "outputs": [],
   "source": [
    "a = \"Anmol\""
   ]
  },
  {
   "cell_type": "code",
   "execution_count": 3,
   "id": "dd45d6af-8a7e-4fbb-ac5f-a683395c52e2",
   "metadata": {},
   "outputs": [
    {
     "data": {
      "text/plain": [
       "'n'"
      ]
     },
     "execution_count": 3,
     "metadata": {},
     "output_type": "execute_result"
    }
   ],
   "source": [
    "a[1]"
   ]
  },
  {
   "cell_type": "code",
   "execution_count": 4,
   "id": "ae38b144-736b-435d-8eae-24afb72d5bc6",
   "metadata": {},
   "outputs": [
    {
     "data": {
      "text/plain": [
       "'l'"
      ]
     },
     "execution_count": 4,
     "metadata": {},
     "output_type": "execute_result"
    }
   ],
   "source": [
    "a[-1]"
   ]
  },
  {
   "cell_type": "code",
   "execution_count": 7,
   "id": "f86938c9-e3ca-4dee-be3d-af887fcb5e09",
   "metadata": {},
   "outputs": [
    {
     "data": {
      "text/plain": [
       "list"
      ]
     },
     "execution_count": 7,
     "metadata": {},
     "output_type": "execute_result"
    }
   ],
   "source": [
    "l=[2,3,4,5,6,6,'anmol','pwskill',True,4+7j]\n",
    "type(l)"
   ]
  },
  {
   "cell_type": "code",
   "execution_count": 8,
   "id": "fb3ef1e4-4ec0-4658-b10c-1976d02d1943",
   "metadata": {},
   "outputs": [
    {
     "data": {
      "text/plain": [
       "'pwskill'"
      ]
     },
     "execution_count": 8,
     "metadata": {},
     "output_type": "execute_result"
    }
   ],
   "source": [
    "l[7]"
   ]
  },
  {
   "cell_type": "code",
   "execution_count": 9,
   "id": "25b61e26-75ab-475f-922d-52a8734eddcd",
   "metadata": {},
   "outputs": [
    {
     "data": {
      "text/plain": [
       "'pwskill'"
      ]
     },
     "execution_count": 9,
     "metadata": {},
     "output_type": "execute_result"
    }
   ],
   "source": [
    "l[-3]"
   ]
  },
  {
   "cell_type": "code",
   "execution_count": 10,
   "id": "d363e30d-85e2-4e55-b712-d8c57afab022",
   "metadata": {},
   "outputs": [
    {
     "data": {
      "text/plain": [
       "'Anmol'"
      ]
     },
     "execution_count": 10,
     "metadata": {},
     "output_type": "execute_result"
    }
   ],
   "source": [
    "a"
   ]
  },
  {
   "cell_type": "code",
   "execution_count": 11,
   "id": "85917728-c232-4987-a81f-a15b477b8073",
   "metadata": {},
   "outputs": [
    {
     "data": {
      "text/plain": [
       "[2, 3, 4, 5, 6, 6, 'anmol', 'pwskill', True, (4+7j)]"
      ]
     },
     "execution_count": 11,
     "metadata": {},
     "output_type": "execute_result"
    }
   ],
   "source": [
    "l"
   ]
  },
  {
   "cell_type": "code",
   "execution_count": 12,
   "id": "8bc3f930-a155-4479-aa7c-ab4abbdbc7b7",
   "metadata": {},
   "outputs": [
    {
     "data": {
      "text/plain": [
       "'anmol'"
      ]
     },
     "execution_count": 12,
     "metadata": {},
     "output_type": "execute_result"
    }
   ],
   "source": [
    "l[6]"
   ]
  },
  {
   "cell_type": "markdown",
   "id": "3c572161-6b4e-43fa-821c-a8f5a57ce90b",
   "metadata": {},
   "source": [
    "## Here You can see i can change the l[6] element of the list"
   ]
  },
  {
   "cell_type": "code",
   "execution_count": 13,
   "id": "f13cfbb4-efd0-4494-aaf5-b79db7836e46",
   "metadata": {},
   "outputs": [],
   "source": [
    "l[6]=100"
   ]
  },
  {
   "cell_type": "code",
   "execution_count": 14,
   "id": "d6d5e419-6f47-4df7-b414-b88223e2ab6f",
   "metadata": {},
   "outputs": [
    {
     "data": {
      "text/plain": [
       "[2, 3, 4, 5, 6, 6, 100, 'pwskill', True, (4+7j)]"
      ]
     },
     "execution_count": 14,
     "metadata": {},
     "output_type": "execute_result"
    }
   ],
   "source": [
    "l"
   ]
  },
  {
   "cell_type": "markdown",
   "id": "2f2810ca-5f64-43d8-b935-8f0dec1a279b",
   "metadata": {},
   "source": [
    "## But in String i am not able to do that beacuse it is immutable"
   ]
  },
  {
   "cell_type": "code",
   "execution_count": 16,
   "id": "685b41f4-571b-4b9a-8244-d327db8856d2",
   "metadata": {},
   "outputs": [
    {
     "data": {
      "text/plain": [
       "'Anmol'"
      ]
     },
     "execution_count": 16,
     "metadata": {},
     "output_type": "execute_result"
    }
   ],
   "source": [
    "a"
   ]
  },
  {
   "cell_type": "code",
   "execution_count": 22,
   "id": "82903dea-1342-4afc-a384-d11eb7885baf",
   "metadata": {},
   "outputs": [],
   "source": [
    "#string is immutable object\n",
    "# a[2] ='a'"
   ]
  },
  {
   "cell_type": "markdown",
   "id": "1497a851-ecee-4897-b706-672399b23462",
   "metadata": {},
   "source": [
    "### Some Methods of string\n",
    "### This is the slicing method of string "
   ]
  },
  {
   "cell_type": "code",
   "execution_count": 1,
   "id": "b560535e-232d-4902-a15b-35028a9a6b3e",
   "metadata": {},
   "outputs": [
    {
     "data": {
      "text/plain": [
       "'Prog'"
      ]
     },
     "execution_count": 1,
     "metadata": {},
     "output_type": "execute_result"
    }
   ],
   "source": [
    "var = 'Program'\n",
    "var[0:4]"
   ]
  },
  {
   "cell_type": "markdown",
   "id": "448f3eed-506e-4d39-8e28-3799ad8db1aa",
   "metadata": {},
   "source": [
    "### Here the 0 is starting index of string and 4 is ending index of string .So, it will print the string from 0 to 4 index excluding 4 \n",
    "### we can also specify the step size of the string by using double colon here i will show you an example. Here -2 is step size"
   ]
  },
  {
   "cell_type": "code",
   "execution_count": 5,
   "id": "ab47a44e-288c-4a63-813d-0473753b82f2",
   "metadata": {},
   "outputs": [
    {
     "data": {
      "text/plain": [
       "'mg'"
      ]
     },
     "execution_count": 5,
     "metadata": {},
     "output_type": "execute_result"
    }
   ],
   "source": [
    "var[7:0:-3]"
   ]
  },
  {
   "cell_type": "markdown",
   "id": "82a96a8b-aca6-49b7-a49e-1f920d8e569f",
   "metadata": {},
   "source": [
    "### Here you can see we printed from last to start every 3rd element."
   ]
  },
  {
   "cell_type": "markdown",
   "id": "d8765e1d-0626-41cb-89c7-84ac976495bc",
   "metadata": {},
   "source": [
    "### if we want to print Reverse string then we can simply do that."
   ]
  },
  {
   "cell_type": "code",
   "execution_count": 6,
   "id": "eb03b7ed-5b5a-4512-86e7-c3b98dccc3cb",
   "metadata": {},
   "outputs": [
    {
     "data": {
      "text/plain": [
       "'margorP'"
      ]
     },
     "execution_count": 6,
     "metadata": {},
     "output_type": "execute_result"
    }
   ],
   "source": [
    "var[::-1]"
   ]
  },
  {
   "cell_type": "code",
   "execution_count": 1,
   "id": "5ce7937f-0c7d-4c2c-a3dd-e21fc9a26cf7",
   "metadata": {},
   "outputs": [
    {
     "data": {
      "text/plain": [
       "'Science'"
      ]
     },
     "execution_count": 1,
     "metadata": {},
     "output_type": "execute_result"
    }
   ],
   "source": [
    "course_name=\"Data Science Masters\"\n",
    "course_name[5:12]"
   ]
  },
  {
   "cell_type": "code",
   "execution_count": 3,
   "id": "4a26bf68-e47c-4b35-b051-2f020f40b6d9",
   "metadata": {},
   "outputs": [
    {
     "data": {
      "text/plain": [
       "'ecneicS'"
      ]
     },
     "execution_count": 3,
     "metadata": {},
     "output_type": "execute_result"
    }
   ],
   "source": [
    "course_name[11:4:-1]"
   ]
  },
  {
   "cell_type": "code",
   "execution_count": 5,
   "id": "75f2d6ef-5a9b-402a-806f-34a1b30c4509",
   "metadata": {},
   "outputs": [
    {
     "data": {
      "text/plain": [
       "'Data Science Masters course'"
      ]
     },
     "execution_count": 5,
     "metadata": {},
     "output_type": "execute_result"
    }
   ],
   "source": [
    "#Conatenation\n",
    "course_name + \" course\""
   ]
  },
  {
   "cell_type": "code",
   "execution_count": 6,
   "id": "19f63712-6191-4a22-9311-da3a0177b973",
   "metadata": {},
   "outputs": [
    {
     "data": {
      "text/plain": [
       "20"
      ]
     },
     "execution_count": 6,
     "metadata": {},
     "output_type": "execute_result"
    }
   ],
   "source": [
    "# len()--return the length of the String \n",
    "len(course_name)"
   ]
  },
  {
   "cell_type": "code",
   "execution_count": 9,
   "id": "7211c22a-ef4e-4dbd-96b3-72654846a5ef",
   "metadata": {},
   "outputs": [
    {
     "data": {
      "text/plain": [
       "9"
      ]
     },
     "execution_count": 9,
     "metadata": {},
     "output_type": "execute_result"
    }
   ],
   "source": [
    "#find() -- Returns the First Occurance of the element present in the string if it is not present then will return -1\n",
    "course_name.find(\"n\")"
   ]
  },
  {
   "cell_type": "code",
   "execution_count": 10,
   "id": "877e9d86-4253-499e-88fe-01cddee0608d",
   "metadata": {},
   "outputs": [
    {
     "data": {
      "text/plain": [
       "'Data Science Masters'"
      ]
     },
     "execution_count": 10,
     "metadata": {},
     "output_type": "execute_result"
    }
   ],
   "source": [
    "#count()--This method will return the Number of Occurance of an Element\n",
    "course_name"
   ]
  },
  {
   "cell_type": "code",
   "execution_count": 12,
   "id": "9dd4300f-4f54-44a4-b3c0-e7b0f17ace21",
   "metadata": {},
   "outputs": [
    {
     "data": {
      "text/plain": [
       "3"
      ]
     },
     "execution_count": 12,
     "metadata": {},
     "output_type": "execute_result"
    }
   ],
   "source": [
    "course_name.count(\"a\")"
   ]
  },
  {
   "cell_type": "markdown",
   "id": "b62006e1-91f4-4acb-a69b-df49bf609780",
   "metadata": {},
   "source": [
    "### String Split Function"
   ]
  },
  {
   "cell_type": "code",
   "execution_count": 14,
   "id": "0a6d4fa2-aec4-4e56-843c-5645c8977616",
   "metadata": {},
   "outputs": [
    {
     "data": {
      "text/plain": [
       "'Data Science Masters'"
      ]
     },
     "execution_count": 14,
     "metadata": {},
     "output_type": "execute_result"
    }
   ],
   "source": [
    "course_name"
   ]
  },
  {
   "cell_type": "code",
   "execution_count": 13,
   "id": "f682ea40-bf49-4683-a00b-c2a3add69dae",
   "metadata": {},
   "outputs": [
    {
     "data": {
      "text/plain": [
       "['Data', 'Science', 'Masters']"
      ]
     },
     "execution_count": 13,
     "metadata": {},
     "output_type": "execute_result"
    }
   ],
   "source": [
    "course_name.split(' ')"
   ]
  },
  {
   "cell_type": "code",
   "execution_count": 15,
   "id": "524e0c96-70b6-425f-895d-c932dc082dfb",
   "metadata": {},
   "outputs": [
    {
     "data": {
      "text/plain": [
       "['Data ', 'cience Masters']"
      ]
     },
     "execution_count": 15,
     "metadata": {},
     "output_type": "execute_result"
    }
   ],
   "source": [
    "course_name.split('S')"
   ]
  },
  {
   "cell_type": "code",
   "execution_count": 16,
   "id": "3c0e0758-7fd4-4fcb-9d50-8715dbf8eae3",
   "metadata": {},
   "outputs": [
    {
     "data": {
      "text/plain": [
       "('Data ', 'S', 'cience Masters')"
      ]
     },
     "execution_count": 16,
     "metadata": {},
     "output_type": "execute_result"
    }
   ],
   "source": [
    "course_name.partition('S')"
   ]
  },
  {
   "cell_type": "code",
   "execution_count": 17,
   "id": "fe98c76d-9807-4112-a788-11d47b69495d",
   "metadata": {},
   "outputs": [
    {
     "data": {
      "text/plain": [
       "'Data Science Masters'"
      ]
     },
     "execution_count": 17,
     "metadata": {},
     "output_type": "execute_result"
    }
   ],
   "source": [
    "## String Upper and Lower Case\n",
    "course_name"
   ]
  },
  {
   "cell_type": "code",
   "execution_count": 18,
   "id": "34e54ade-8dc2-454c-b075-51cd3846bcc6",
   "metadata": {},
   "outputs": [
    {
     "data": {
      "text/plain": [
       "'DATA SCIENCE MASTERS'"
      ]
     },
     "execution_count": 18,
     "metadata": {},
     "output_type": "execute_result"
    }
   ],
   "source": [
    "course_name.upper()"
   ]
  },
  {
   "cell_type": "code",
   "execution_count": 19,
   "id": "3787e845-01b2-4684-99fe-d6db33156144",
   "metadata": {},
   "outputs": [
    {
     "data": {
      "text/plain": [
       "'data science masters'"
      ]
     },
     "execution_count": 19,
     "metadata": {},
     "output_type": "execute_result"
    }
   ],
   "source": [
    "course_name.lower()"
   ]
  },
  {
   "cell_type": "code",
   "execution_count": 20,
   "id": "6dacbf8c-2167-4252-ba7a-4aaf3195a87c",
   "metadata": {},
   "outputs": [
    {
     "data": {
      "text/plain": [
       "'dATA sCIENCE mASTERS'"
      ]
     },
     "execution_count": 20,
     "metadata": {},
     "output_type": "execute_result"
    }
   ],
   "source": [
    "course_name.swapcase()"
   ]
  },
  {
   "cell_type": "code",
   "execution_count": 21,
   "id": "1e62e76f-9d3c-4e27-b658-13afd83efbf0",
   "metadata": {},
   "outputs": [
    {
     "data": {
      "text/plain": [
       "'Data Science Masters'"
      ]
     },
     "execution_count": 21,
     "metadata": {},
     "output_type": "execute_result"
    }
   ],
   "source": [
    "course_name.title()"
   ]
  },
  {
   "cell_type": "code",
   "execution_count": null,
   "id": "2c94375d-8606-4f8b-bd2c-c621f48888e7",
   "metadata": {},
   "outputs": [],
   "source": []
  }
 ],
 "metadata": {
  "kernelspec": {
   "display_name": "Python 3 (ipykernel)",
   "language": "python",
   "name": "python3"
  },
  "language_info": {
   "codemirror_mode": {
    "name": "ipython",
    "version": 3
   },
   "file_extension": ".py",
   "mimetype": "text/x-python",
   "name": "python",
   "nbconvert_exporter": "python",
   "pygments_lexer": "ipython3",
   "version": "3.10.8"
  }
 },
 "nbformat": 4,
 "nbformat_minor": 5
}
