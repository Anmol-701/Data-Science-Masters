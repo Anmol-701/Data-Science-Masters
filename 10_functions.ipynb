{
 "cells": [
  {
   "cell_type": "markdown",
   "id": "ff8244c1-f4ca-4571-a54e-7dbee0d96044",
   "metadata": {},
   "source": [
    "## Functions:\n",
    "  - A function in Python is a block of code that performs a specific task.\n",
    "  - we can create a funtion using def keyword.\n",
    "  - We can write a code inside function a use that function number of times."
   ]
  },
  {
   "cell_type": "code",
   "execution_count": 1,
   "id": "5bd421e8-a58e-4dd0-a5b0-557b06e9faa8",
   "metadata": {},
   "outputs": [],
   "source": [
    "def test():\n",
    "    pass  #-- Pass simply means that pass the entire definiton"
   ]
  },
  {
   "cell_type": "code",
   "execution_count": 2,
   "id": "154bafb9-f4d2-47f1-8b95-fbd849cf0bce",
   "metadata": {},
   "outputs": [],
   "source": [
    "def test1():\n",
    "    print(\"This is my very very first fun\")"
   ]
  },
  {
   "cell_type": "code",
   "execution_count": 4,
   "id": "4321d234-1e9b-42e0-aedf-4baa5585cd32",
   "metadata": {},
   "outputs": [
    {
     "name": "stdout",
     "output_type": "stream",
     "text": [
      "This is my very very first fun\n"
     ]
    }
   ],
   "source": [
    "test1() ##-- Without calling funtion the function will never execute"
   ]
  },
  {
   "cell_type": "code",
   "execution_count": 6,
   "id": "46b37667-2aa4-44f0-b6cd-83dde82571db",
   "metadata": {},
   "outputs": [],
   "source": [
    "# test1() + \"anmol\"  -- This will give an error because we can't perform concatenation operation with function"
   ]
  },
  {
   "cell_type": "code",
   "execution_count": 7,
   "id": "7b08f8c5-c269-4de0-a583-d63230518172",
   "metadata": {},
   "outputs": [],
   "source": [
    "def test2():\n",
    "    return \"This is my fun with return\""
   ]
  },
  {
   "cell_type": "code",
   "execution_count": 8,
   "id": "0f5d2df1-869d-4636-9b79-dc338c6f2f58",
   "metadata": {},
   "outputs": [
    {
     "data": {
      "text/plain": [
       "'This is my fun with return'"
      ]
     },
     "execution_count": 8,
     "metadata": {},
     "output_type": "execute_result"
    }
   ],
   "source": [
    "test2()"
   ]
  },
  {
   "cell_type": "code",
   "execution_count": 10,
   "id": "b93a3dba-b1d5-4ba8-95aa-884282e50a68",
   "metadata": {},
   "outputs": [
    {
     "data": {
      "text/plain": [
       "'This is my fun with returnAnmol'"
      ]
     },
     "execution_count": 10,
     "metadata": {},
     "output_type": "execute_result"
    }
   ],
   "source": [
    "test2() + \"Anmol\" ##-- This will execute bec. we are returning string,that is why we always use return instead of print"
   ]
  },
  {
   "cell_type": "code",
   "execution_count": 11,
   "id": "88a81337-b655-473e-a544-aaadba02e9ec",
   "metadata": {},
   "outputs": [],
   "source": [
    "def test3():\n",
    "    return 1,4, \"pwskills\" ,34.54"
   ]
  },
  {
   "cell_type": "code",
   "execution_count": 12,
   "id": "868d789c-bea1-4cf2-a36c-3e07f2f68011",
   "metadata": {},
   "outputs": [
    {
     "data": {
      "text/plain": [
       "(1, 4, 'pwskills', 34.54)"
      ]
     },
     "execution_count": 12,
     "metadata": {},
     "output_type": "execute_result"
    }
   ],
   "source": [
    "test3()  ##-- I am able to return multiple returns from function test3()"
   ]
  },
  {
   "cell_type": "code",
   "execution_count": 13,
   "id": "055183a5-9a84-4774-b626-63c78b32fbfd",
   "metadata": {},
   "outputs": [
    {
     "data": {
      "text/plain": [
       "(1, 2, 3, 4, 5)"
      ]
     },
     "execution_count": 13,
     "metadata": {},
     "output_type": "execute_result"
    }
   ],
   "source": [
    "a = 1,2,3,4,5\n",
    "a"
   ]
  },
  {
   "cell_type": "code",
   "execution_count": 14,
   "id": "dc519c7d-52a1-421d-8288-79ca3eb94cf2",
   "metadata": {},
   "outputs": [],
   "source": [
    "a,b,c,d=1,2,34.54,True"
   ]
  },
  {
   "cell_type": "code",
   "execution_count": 15,
   "id": "a7cbe382-3ed5-4d36-9c57-6f99998545b0",
   "metadata": {},
   "outputs": [
    {
     "data": {
      "text/plain": [
       "1"
      ]
     },
     "execution_count": 15,
     "metadata": {},
     "output_type": "execute_result"
    }
   ],
   "source": [
    "a ##-- a is trying to hold a value 1"
   ]
  },
  {
   "cell_type": "code",
   "execution_count": 16,
   "id": "3a913231-7c46-48bd-aa3c-9c98a17a0882",
   "metadata": {},
   "outputs": [
    {
     "data": {
      "text/plain": [
       "2"
      ]
     },
     "execution_count": 16,
     "metadata": {},
     "output_type": "execute_result"
    }
   ],
   "source": [
    "b ##-- b is trying to hold a value 2"
   ]
  },
  {
   "cell_type": "code",
   "execution_count": 17,
   "id": "56cbfae3-aa0c-4b8b-bc9c-24f5dead8abf",
   "metadata": {},
   "outputs": [
    {
     "data": {
      "text/plain": [
       "(1, 4, 'pwskills', 34.54)"
      ]
     },
     "execution_count": 17,
     "metadata": {},
     "output_type": "execute_result"
    }
   ],
   "source": [
    "test3()"
   ]
  },
  {
   "cell_type": "code",
   "execution_count": 19,
   "id": "69a7f964-9a44-461a-9a2c-0da250bdb9c2",
   "metadata": {},
   "outputs": [
    {
     "data": {
      "text/plain": [
       "4"
      ]
     },
     "execution_count": 19,
     "metadata": {},
     "output_type": "execute_result"
    }
   ],
   "source": [
    "test3()[1] ##-- We can also extract data in this way"
   ]
  },
  {
   "cell_type": "code",
   "execution_count": 21,
   "id": "8d8a62cb-45af-4a81-9485-549e2a2a1a6d",
   "metadata": {},
   "outputs": [
    {
     "data": {
      "text/plain": [
       "34.54"
      ]
     },
     "execution_count": 21,
     "metadata": {},
     "output_type": "execute_result"
    }
   ],
   "source": [
    "test3()[3]"
   ]
  },
  {
   "cell_type": "code",
   "execution_count": 22,
   "id": "344bcb91-cd6f-4dff-900a-77b1d208e572",
   "metadata": {},
   "outputs": [],
   "source": [
    "def test4():\n",
    "    a=3*4+5\n",
    "    return a"
   ]
  },
  {
   "cell_type": "code",
   "execution_count": 23,
   "id": "1a780e24-9a06-4388-9e49-fea8c840871b",
   "metadata": {},
   "outputs": [
    {
     "data": {
      "text/plain": [
       "17"
      ]
     },
     "execution_count": 23,
     "metadata": {},
     "output_type": "execute_result"
    }
   ],
   "source": [
    "test4()"
   ]
  },
  {
   "cell_type": "code",
   "execution_count": 24,
   "id": "62c2b869-a150-4abb-8749-b7b601862f85",
   "metadata": {},
   "outputs": [
    {
     "data": {
      "text/plain": [
       "int"
      ]
     },
     "execution_count": 24,
     "metadata": {},
     "output_type": "execute_result"
    }
   ],
   "source": [
    "type(test4())"
   ]
  },
  {
   "cell_type": "code",
   "execution_count": 25,
   "id": "7b27062f-3bf9-4990-b72b-7ed2640e7bd9",
   "metadata": {},
   "outputs": [],
   "source": [
    "def test5(a,b): ## -- We can also pass some data at time to create a function\n",
    "    c=a+b\n",
    "    return c"
   ]
  },
  {
   "cell_type": "code",
   "execution_count": 26,
   "id": "3143ce19-25c5-4d75-8833-95c17a10dfda",
   "metadata": {},
   "outputs": [
    {
     "data": {
      "text/plain": [
       "7"
      ]
     },
     "execution_count": 26,
     "metadata": {},
     "output_type": "execute_result"
    }
   ],
   "source": [
    "test5(2,5)  #-- Here i pass value of a and b "
   ]
  },
  {
   "cell_type": "code",
   "execution_count": 28,
   "id": "c9600047-b97f-4f52-8f9f-66b7beed2e13",
   "metadata": {},
   "outputs": [
    {
     "data": {
      "text/plain": [
       "'Anmol Rana'"
      ]
     },
     "execution_count": 28,
     "metadata": {},
     "output_type": "execute_result"
    }
   ],
   "source": [
    "test5(\"Anmol\",\" Rana\")"
   ]
  },
  {
   "cell_type": "code",
   "execution_count": 29,
   "id": "2f7e64d9-32c3-477a-92c0-2ff1340738bd",
   "metadata": {},
   "outputs": [
    {
     "data": {
      "text/plain": [
       "[1, 2, 3, 4, 5, 6, 7, 8, 9]"
      ]
     },
     "execution_count": 29,
     "metadata": {},
     "output_type": "execute_result"
    }
   ],
   "source": [
    "## we can also concatenate list using test5() function\n",
    "test5([1,2,3,4],[5,6,7,8,9])"
   ]
  },
  {
   "cell_type": "code",
   "execution_count": 31,
   "id": "c40f377a-8007-403d-9c5d-d1af1d85cab6",
   "metadata": {},
   "outputs": [
    {
     "data": {
      "text/plain": [
       "'Anmol Rana'"
      ]
     },
     "execution_count": 31,
     "metadata": {},
     "output_type": "execute_result"
    }
   ],
   "source": [
    "## We can also pass the value of b in place of a\n",
    "test5(b=\" Rana\",a=\"Anmol\")"
   ]
  },
  {
   "cell_type": "code",
   "execution_count": 32,
   "id": "4d142ad5-652d-4db8-ab7d-4455f1e3cef8",
   "metadata": {},
   "outputs": [],
   "source": [
    "l=[1,2,3,4,5,\"anmol\",\"pwskills\",[1,2,3,34,54]]"
   ]
  },
  {
   "cell_type": "code",
   "execution_count": 33,
   "id": "c088931c-95dd-41ec-a9fa-25b6848e2d70",
   "metadata": {},
   "outputs": [],
   "source": [
    "## Create a function which will take input as a list and give me a final list with all the numeric values\n",
    "def test6(a):\n",
    "    n = []\n",
    "    for i in a :\n",
    "        if type(i) == int or type(i) == float:\n",
    "            n.append(i)\n",
    "    return n\n",
    "    "
   ]
  },
  {
   "cell_type": "code",
   "execution_count": 34,
   "id": "15866dce-7da2-48d7-80c9-b14204a55707",
   "metadata": {},
   "outputs": [
    {
     "data": {
      "text/plain": [
       "[1, 2, 3, 4, 5]"
      ]
     },
     "execution_count": 34,
     "metadata": {},
     "output_type": "execute_result"
    }
   ],
   "source": [
    "test6(l)"
   ]
  },
  {
   "cell_type": "code",
   "execution_count": 35,
   "id": "9ee64861-d487-4fe6-9549-a7c542a1088d",
   "metadata": {},
   "outputs": [
    {
     "data": {
      "text/plain": [
       "[1, 2, 3, 4, 5, 'anmol', 'pwskills', [1, 2, 3, 34, 54]]"
      ]
     },
     "execution_count": 35,
     "metadata": {},
     "output_type": "execute_result"
    }
   ],
   "source": [
    "## Also Extracting data out of list inside a list 'l'\n",
    "l"
   ]
  },
  {
   "cell_type": "code",
   "execution_count": 36,
   "id": "d346176e-a95a-44da-941e-3261d6687831",
   "metadata": {},
   "outputs": [],
   "source": [
    "def test7(a):\n",
    "    n =[]\n",
    "    for i in a:\n",
    "        if type(i)==list:\n",
    "            for j in i :\n",
    "                if type(j)==int or type(j)== float:\n",
    "                    n.append(j)\n",
    "        else:\n",
    "            if type(i)==int or type(i)==float:\n",
    "                n.append(i)\n",
    "    return n\n"
   ]
  },
  {
   "cell_type": "code",
   "execution_count": 37,
   "id": "7f7f2513-320b-4170-84c4-c04a2b9501e9",
   "metadata": {},
   "outputs": [
    {
     "data": {
      "text/plain": [
       "[1, 2, 3, 4, 5, 1, 2, 3, 34, 54]"
      ]
     },
     "execution_count": 37,
     "metadata": {},
     "output_type": "execute_result"
    }
   ],
   "source": [
    "test7(l)"
   ]
  },
  {
   "cell_type": "markdown",
   "id": "f07633b2-768a-424d-8833-092e634ce85a",
   "metadata": {},
   "source": [
    "## Args\n",
    "  - suppose we don't know that how many values user will going to pass to our function in that situation we use args."
   ]
  },
  {
   "cell_type": "code",
   "execution_count": 41,
   "id": "dd190600-8815-46f2-a126-9341c211b27b",
   "metadata": {},
   "outputs": [],
   "source": [
    "def test8(*args): ##-- we don't need to pass parameter to the function this args is not a keyword \n",
    "    return args"
   ]
  },
  {
   "cell_type": "code",
   "execution_count": 39,
   "id": "4f5d6646-f754-4a82-88f5-cf22861a23a2",
   "metadata": {},
   "outputs": [
    {
     "data": {
      "text/plain": [
       "(2,)"
      ]
     },
     "execution_count": 39,
     "metadata": {},
     "output_type": "execute_result"
    }
   ],
   "source": [
    "test8(2)"
   ]
  },
  {
   "cell_type": "code",
   "execution_count": 42,
   "id": "db23b49e-8e82-40c8-b806-0c952432f4f9",
   "metadata": {},
   "outputs": [
    {
     "data": {
      "text/plain": [
       "(1, 2, 3, 5, 6, 7)"
      ]
     },
     "execution_count": 42,
     "metadata": {},
     "output_type": "execute_result"
    }
   ],
   "source": [
    "test8(1,2,3,5,6,7)"
   ]
  },
  {
   "cell_type": "code",
   "execution_count": 43,
   "id": "9fd192ad-34f2-4a45-9594-e2a43069bad8",
   "metadata": {},
   "outputs": [
    {
     "data": {
      "text/plain": [
       "('anmol', [1, 2, 3, 4, 5], (1, 2, 3, 4, 5))"
      ]
     },
     "execution_count": 43,
     "metadata": {},
     "output_type": "execute_result"
    }
   ],
   "source": [
    "test8('anmol',[1,2,3,4,5,],(1,2,3,4,5))"
   ]
  },
  {
   "cell_type": "code",
   "execution_count": 44,
   "id": "cdf62b56-dac8-4217-9218-bb5126e52148",
   "metadata": {},
   "outputs": [],
   "source": [
    "def test9(*anm):  ##-- we can use any name in place of args\n",
    "    return anm"
   ]
  },
  {
   "cell_type": "code",
   "execution_count": 45,
   "id": "3756353d-af6c-423e-83fa-7dc81e4ace2a",
   "metadata": {},
   "outputs": [
    {
     "data": {
      "text/plain": [
       "(1, 2, 65, 334, 43)"
      ]
     },
     "execution_count": 45,
     "metadata": {},
     "output_type": "execute_result"
    }
   ],
   "source": [
    "test9(1,2,65,334,43)"
   ]
  },
  {
   "cell_type": "code",
   "execution_count": 48,
   "id": "f2c36d70-b53c-47e0-80ab-c057325b006a",
   "metadata": {},
   "outputs": [],
   "source": [
    "def test10(*args,a):\n",
    "    return args,a\n"
   ]
  },
  {
   "cell_type": "code",
   "execution_count": 49,
   "id": "2d878a41-9581-4924-92f5-c464250400ce",
   "metadata": {},
   "outputs": [
    {
     "data": {
      "text/plain": [
       "((1, 2, 3, 4), 'Anmol')"
      ]
     },
     "execution_count": 49,
     "metadata": {},
     "output_type": "execute_result"
    }
   ],
   "source": [
    "test10(1,2,3,4, a = \"Anmol\") #-- We have to pass minimum 1 additional data for a"
   ]
  },
  {
   "cell_type": "code",
   "execution_count": 52,
   "id": "a07bc314-6faa-43f5-8064-e40353eb4705",
   "metadata": {},
   "outputs": [],
   "source": [
    "## IF we pass mutiple data out of that data we keep all list separate\n",
    "def fun1(*args):\n",
    "    l = []\n",
    "    for i in args:\n",
    "        if type(i) == list:\n",
    "            l.append(i)\n",
    "    return l\n",
    "\n",
    "    "
   ]
  },
  {
   "cell_type": "code",
   "execution_count": 54,
   "id": "300612ff-91c8-482b-b700-b77c81cf307b",
   "metadata": {},
   "outputs": [
    {
     "data": {
      "text/plain": [
       "[[1, 2, 3, 4], [4, 5, 6], [7, 8, 9]]"
      ]
     },
     "execution_count": 54,
     "metadata": {},
     "output_type": "execute_result"
    }
   ],
   "source": [
    "fun1(1,2,3,[1,2,3,4], (1,2,3,4,5),\"anmol\", [4,5,6],[7,8,9])"
   ]
  },
  {
   "cell_type": "markdown",
   "id": "9d959319-5e62-4af3-9a84-c8e3e6009f69",
   "metadata": {},
   "source": [
    "## kwargs\n",
    "  - It is also like args and also take n number of input but in form of key and value pair.\n",
    "  - kwargs is not a keyword we can use any word in place of kwargs.\n",
    "  - The data we passing to kwargs will be in the form of dictionary."
   ]
  },
  {
   "cell_type": "code",
   "execution_count": 56,
   "id": "45e4f5c5-204f-47bd-a30b-13cc3f554414",
   "metadata": {},
   "outputs": [],
   "source": [
    "def fun2(**kwargs):\n",
    "    return kwargs"
   ]
  },
  {
   "cell_type": "code",
   "execution_count": 57,
   "id": "b55e54e6-df75-4ef4-a985-c13d87c3aa14",
   "metadata": {},
   "outputs": [
    {
     "data": {
      "text/plain": [
       "{}"
      ]
     },
     "execution_count": 57,
     "metadata": {},
     "output_type": "execute_result"
    }
   ],
   "source": [
    "fun2()"
   ]
  },
  {
   "cell_type": "code",
   "execution_count": 58,
   "id": "e665c65c-6b21-46f5-8b4d-2aa7e128b20e",
   "metadata": {},
   "outputs": [
    {
     "data": {
      "text/plain": [
       "dict"
      ]
     },
     "execution_count": 58,
     "metadata": {},
     "output_type": "execute_result"
    }
   ],
   "source": [
    "type(fun2())"
   ]
  },
  {
   "cell_type": "code",
   "execution_count": 59,
   "id": "7ca29879-457b-4c9e-9dd7-3b2cde73e5ea",
   "metadata": {},
   "outputs": [
    {
     "data": {
      "text/plain": [
       "{'a': 34, 'b': 23, 'c': [1, 2, 3, 4], 'd': ('anmol', 'rana')}"
      ]
     },
     "execution_count": 59,
     "metadata": {},
     "output_type": "execute_result"
    }
   ],
   "source": [
    "fun2(a=34,b=23,c=[1,2,3,4],d= (\"anmol\",\"rana\"))"
   ]
  },
  {
   "cell_type": "code",
   "execution_count": 60,
   "id": "5b59f01b-ffb3-4712-802a-e3da4bd0deaa",
   "metadata": {},
   "outputs": [],
   "source": [
    "## if values passed in kwargs are of list type then simply return key of that list and list also\n",
    "def fun3(**kwargs):\n",
    "    for i in kwargs.keys():\n",
    "        if type (kwargs[i]) ==list:\n",
    "            return i , kwargs[i]"
   ]
  },
  {
   "cell_type": "code",
   "execution_count": 61,
   "id": "5b3e3000-efc9-4e0f-9a57-fcdce118f653",
   "metadata": {},
   "outputs": [
    {
     "data": {
      "text/plain": [
       "('c', [1, 2, 3, 4])"
      ]
     },
     "execution_count": 61,
     "metadata": {},
     "output_type": "execute_result"
    }
   ],
   "source": [
    "fun3(a=34,b=23,c=[1,2,3,4],d= (\"anmol\",\"rana\"))"
   ]
  },
  {
   "cell_type": "code",
   "execution_count": 62,
   "id": "2ceffe7b-98b2-428e-afed-68e275750f6f",
   "metadata": {},
   "outputs": [],
   "source": [
    "## We can also pass both args and kwargs as a parameter\n",
    "def fun4(*args,**kwargs):\n",
    "    return args, kwargs"
   ]
  },
  {
   "cell_type": "code",
   "execution_count": null,
   "id": "ddda1f29-057d-4d42-ba84-b5e0757c2db1",
   "metadata": {},
   "outputs": [],
   "source": [
    "fun4(12,)"
   ]
  }
 ],
 "metadata": {
  "kernelspec": {
   "display_name": "Python 3 (ipykernel)",
   "language": "python",
   "name": "python3"
  },
  "language_info": {
   "codemirror_mode": {
    "name": "ipython",
    "version": 3
   },
   "file_extension": ".py",
   "mimetype": "text/x-python",
   "name": "python",
   "nbconvert_exporter": "python",
   "pygments_lexer": "ipython3",
   "version": "3.10.8"
  }
 },
 "nbformat": 4,
 "nbformat_minor": 5
}
