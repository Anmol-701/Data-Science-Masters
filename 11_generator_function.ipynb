{
 "cells": [
  {
   "cell_type": "markdown",
   "id": "f77a0554-f651-4c46-ae7c-afc5284e08ff",
   "metadata": {},
   "source": [
    "## Generator_Function:\n",
    "  - A Generator is a function that returns an iterator that produces a sequence of values when iterated over.\n",
    "  - We can use generator when we have to generate large sequence of values and we don't want to store all of them in memory at once\n",
    "  - In generator function instead of returning we use yield statemant."
   ]
  },
  {
   "cell_type": "code",
   "execution_count": 1,
   "id": "2c08186b-40a5-47cd-b231-12603da92b39",
   "metadata": {},
   "outputs": [],
   "source": [
    "l =[1,2,3,4,4,5,6,\"anmol\",\"pwskills\"]"
   ]
  },
  {
   "cell_type": "code",
   "execution_count": 4,
   "id": "3e4edfba-45f7-4436-bdfe-6d5fd8313da9",
   "metadata": {},
   "outputs": [
    {
     "data": {
      "text/plain": [
       "[1, 2, 3, 4, 4, 5, 6]"
      ]
     },
     "execution_count": 4,
     "metadata": {},
     "output_type": "execute_result"
    }
   ],
   "source": [
    "#-- Extracting int type data from the list\n",
    "def test1(a):\n",
    "    n=[]\n",
    "    for i in a:\n",
    "        if type(i) == int:\n",
    "            n.append(i)\n",
    "    return n\n",
    "test1(l)"
   ]
  },
  {
   "cell_type": "code",
   "execution_count": 6,
   "id": "e11a1f45-d19a-4dfc-b797-5c8c2732b13a",
   "metadata": {},
   "outputs": [
    {
     "data": {
      "text/plain": [
       "<generator object test_fib at 0x7f1154553300>"
      ]
     },
     "execution_count": 6,
     "metadata": {},
     "output_type": "execute_result"
    }
   ],
   "source": [
    "## Ficonacci series :0 1 1 2 3 5 8 13 21\n",
    "def test_fib(n):\n",
    "    a,b=0,1\n",
    "    for i in range (10):\n",
    "        yield a\n",
    "        a,b =b,a +b\n",
    "test_fib(10) ##--This fun will give generator object"
   ]
  },
  {
   "cell_type": "markdown",
   "id": "bf8c63ec-a117-4e75-b271-89218e384451",
   "metadata": {},
   "source": [
    "  - The yield keyword is used to produce a value from the generator."
   ]
  },
  {
   "cell_type": "code",
   "execution_count": 7,
   "id": "3b995a6d-6777-4721-b891-cc0ed23930e5",
   "metadata": {},
   "outputs": [
    {
     "name": "stdout",
     "output_type": "stream",
     "text": [
      "0\n",
      "1\n",
      "1\n",
      "2\n",
      "3\n",
      "5\n",
      "8\n",
      "13\n",
      "21\n",
      "34\n"
     ]
    }
   ],
   "source": [
    "## -- If i have to take out the data out of this function\n",
    "for i in test_fib(10):\n",
    "    print(i)"
   ]
  },
  {
   "cell_type": "code",
   "execution_count": null,
   "id": "7acddf2f-3cc1-4c4a-970a-59c88bbfeae3",
   "metadata": {},
   "outputs": [],
   "source": []
  }
 ],
 "metadata": {
  "kernelspec": {
   "display_name": "Python 3 (ipykernel)",
   "language": "python",
   "name": "python3"
  },
  "language_info": {
   "codemirror_mode": {
    "name": "ipython",
    "version": 3
   },
   "file_extension": ".py",
   "mimetype": "text/x-python",
   "name": "python",
   "nbconvert_exporter": "python",
   "pygments_lexer": "ipython3",
   "version": "3.10.8"
  }
 },
 "nbformat": 4,
 "nbformat_minor": 5
}
