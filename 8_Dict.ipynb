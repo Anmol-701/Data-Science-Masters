{
 "cells": [
  {
   "cell_type": "markdown",
   "id": "9ff32fa4-97f1-4060-b793-878d8facc099",
   "metadata": {},
   "source": [
    "## Dictionary: \n",
    "   - These are used to store data in key:value format.\n",
    "   - These are collection which is ordered and changable.\n",
    "   - Dictionaries are written with curly brackets"
   ]
  },
  {
   "cell_type": "code",
   "execution_count": 1,
   "id": "8ffc0595-cda0-483d-b09e-0b1a22a9f112",
   "metadata": {},
   "outputs": [
    {
     "data": {
      "text/plain": [
       "dict"
      ]
     },
     "execution_count": 1,
     "metadata": {},
     "output_type": "execute_result"
    }
   ],
   "source": [
    "d = {}\n",
    "type(d)"
   ]
  },
  {
   "cell_type": "code",
   "execution_count": 2,
   "id": "477193e1-60b9-4ad1-9e42-eddb0d04bed7",
   "metadata": {},
   "outputs": [
    {
     "data": {
      "text/plain": [
       "dict"
      ]
     },
     "execution_count": 2,
     "metadata": {},
     "output_type": "execute_result"
    }
   ],
   "source": [
    "d1 = {\"name\" : \"anmol\" , \"email_id\" : \"example@gamil.com\", \"Number\" : 123456}\n",
    "type(d1)"
   ]
  },
  {
   "cell_type": "code",
   "execution_count": 3,
   "id": "816ec3d8-a2c4-4210-8a33-29105a6f8ba2",
   "metadata": {},
   "outputs": [
    {
     "data": {
      "text/plain": [
       "{'name': 'anmol', 'email_id': 'example@gamil.com', 'Number': 123456}"
      ]
     },
     "execution_count": 3,
     "metadata": {},
     "output_type": "execute_result"
    }
   ],
   "source": [
    "d1"
   ]
  },
  {
   "cell_type": "code",
   "execution_count": 4,
   "id": "dc3588a9-fb1e-4ee8-a211-d33f7bb51267",
   "metadata": {},
   "outputs": [
    {
     "data": {
      "text/plain": [
       "{2233: 'abc'}"
      ]
     },
     "execution_count": 4,
     "metadata": {},
     "output_type": "execute_result"
    }
   ],
   "source": [
    "d3 ={2233:\"abc\"} ## key can be a integer or string\n",
    "d3"
   ]
  },
  {
   "cell_type": "code",
   "execution_count": 5,
   "id": "710b664e-07b1-4c46-af21-a597ec8ad7e5",
   "metadata": {},
   "outputs": [
    {
     "data": {
      "text/plain": [
       "{'key': {'name': 'Anmol', 'class': 'DSA'}}"
      ]
     },
     "execution_count": 5,
     "metadata": {},
     "output_type": "execute_result"
    }
   ],
   "source": [
    "## We can also make nested dictionary\n",
    "d4={\"key\": {\"name\":\"Anmol\",\"class\":\"DSA\"}}\n",
    "d4"
   ]
  },
  {
   "cell_type": "code",
   "execution_count": 6,
   "id": "e9d40a36-870e-4052-8f13-114e1086756e",
   "metadata": {},
   "outputs": [
    {
     "data": {
      "text/plain": [
       "{'key': {'name': 'Anmol', 'class': 'DSA'}, 'name': 'sudh'}"
      ]
     },
     "execution_count": 6,
     "metadata": {},
     "output_type": "execute_result"
    }
   ],
   "source": [
    "## We can also add new value in Dictionaries\n",
    "d4['name'] = \"sudh\"\n",
    "d4"
   ]
  },
  {
   "cell_type": "code",
   "execution_count": 10,
   "id": "f124ba02-29ff-4589-84ef-a7605aacfc86",
   "metadata": {},
   "outputs": [
    {
     "data": {
      "text/plain": [
       "{'key': {'name': 'Anmol', 'class': 'DSA'}}"
      ]
     },
     "execution_count": 10,
     "metadata": {},
     "output_type": "execute_result"
    }
   ],
   "source": [
    "## And if we want to any key then we can simply do:\n",
    "del d4['name']\n",
    "d4"
   ]
  },
  {
   "cell_type": "code",
   "execution_count": 11,
   "id": "2f125230-0eef-4ca5-9106-6063adb4e213",
   "metadata": {},
   "outputs": [
    {
     "data": {
      "text/plain": [
       "dict_keys(['key'])"
      ]
     },
     "execution_count": 11,
     "metadata": {},
     "output_type": "execute_result"
    }
   ],
   "source": [
    "d4.keys() ## This will return all keys inside dictionary"
   ]
  },
  {
   "cell_type": "code",
   "execution_count": 12,
   "id": "e37cbcb8-c265-448d-b970-9bb26c6bedd8",
   "metadata": {},
   "outputs": [
    {
     "data": {
      "text/plain": [
       "dict_values([{'name': 'Anmol', 'class': 'DSA'}])"
      ]
     },
     "execution_count": 12,
     "metadata": {},
     "output_type": "execute_result"
    }
   ],
   "source": [
    "d4.values() ## This will return all values inside dictionary"
   ]
  },
  {
   "cell_type": "code",
   "execution_count": 13,
   "id": "9376d380-4a77-40b7-93ed-93f0849e6fc4",
   "metadata": {},
   "outputs": [
    {
     "data": {
      "text/plain": [
       "{'key': {'name': 'Anmol', 'class': 'DSA'}}"
      ]
     },
     "execution_count": 13,
     "metadata": {},
     "output_type": "execute_result"
    }
   ],
   "source": [
    "## We can also copy the data using copy() method\n",
    "d5= d4.copy() #-- It will create a new memory location for d5\n",
    "d5"
   ]
  },
  {
   "cell_type": "code",
   "execution_count": 17,
   "id": "63af91ff-e30e-496f-82eb-b400cdb7df73",
   "metadata": {},
   "outputs": [
    {
     "data": {
      "text/plain": [
       "{'name': 'Anmol', 'class': 'DSA'}"
      ]
     },
     "execution_count": 17,
     "metadata": {},
     "output_type": "execute_result"
    }
   ],
   "source": [
    "d5.pop('key')\n"
   ]
  },
  {
   "cell_type": "code",
   "execution_count": 18,
   "id": "95efcfdb-b902-40a4-b68b-1874581069a5",
   "metadata": {},
   "outputs": [
    {
     "data": {
      "text/plain": [
       "{}"
      ]
     },
     "execution_count": 18,
     "metadata": {},
     "output_type": "execute_result"
    }
   ],
   "source": [
    "d5"
   ]
  },
  {
   "cell_type": "code",
   "execution_count": 20,
   "id": "bb13f01d-be46-4fea-a9df-378bc2ad2a51",
   "metadata": {},
   "outputs": [
    {
     "data": {
      "text/plain": [
       "{1: ('a', 'b', 'c'), 2: ('a', 'b', 'c'), 3: ('a', 'b', 'c')}"
      ]
     },
     "execution_count": 20,
     "metadata": {},
     "output_type": "execute_result"
    }
   ],
   "source": [
    "d.fromkeys((1,2,3) , ('a' , 'b' , 'c'))"
   ]
  },
  {
   "cell_type": "markdown",
   "id": "fe27f34f-a904-4e7b-a17c-81a2dda3f2c0",
   "metadata": {},
   "source": [
    "### Concatenation of Two Dictionaries"
   ]
  },
  {
   "cell_type": "code",
   "execution_count": 6,
   "id": "5619614d-915a-4cae-8297-4ea510a305df",
   "metadata": {},
   "outputs": [],
   "source": [
    "d19 = {\"key1\" : \"value\" , \"key2\" : \"value2\"}\n",
    "d20 = {\"key3\" : \"value3\" , \"key4\" : \"value4\"}"
   ]
  },
  {
   "cell_type": "code",
   "execution_count": 7,
   "id": "ce06e703-88aa-49d8-946c-c9e83dde9b4d",
   "metadata": {},
   "outputs": [
    {
     "data": {
      "text/plain": [
       "({'key1': 'value', 'key2': 'value2'}, {'key3': 'value3', 'key4': 'value4'})"
      ]
     },
     "execution_count": 7,
     "metadata": {},
     "output_type": "execute_result"
    }
   ],
   "source": [
    "(d19,d20)"
   ]
  },
  {
   "cell_type": "code",
   "execution_count": 8,
   "id": "61198a3c-184e-4c44-b070-657c66fce1ee",
   "metadata": {},
   "outputs": [
    {
     "data": {
      "text/plain": [
       "{'key1': 'value', 'key2': 'value2', 'key3': 'value3', 'key4': 'value4'}"
      ]
     },
     "execution_count": 8,
     "metadata": {},
     "output_type": "execute_result"
    }
   ],
   "source": [
    "d19.update(d20) ## This will update d19 with d20\n",
    "d19"
   ]
  },
  {
   "cell_type": "code",
   "execution_count": 25,
   "id": "05949c40-63df-4a65-ac35-5695d233e78d",
   "metadata": {},
   "outputs": [
    {
     "data": {
      "text/plain": [
       "{'key3': 'value3', 'key4': 'value4'}"
      ]
     },
     "execution_count": 25,
     "metadata": {},
     "output_type": "execute_result"
    }
   ],
   "source": [
    "d20"
   ]
  },
  {
   "cell_type": "markdown",
   "id": "bdac67c1-b5b8-4664-8b2f-de68b1893592",
   "metadata": {},
   "source": [
    "### Dictionary Comprehension"
   ]
  },
  {
   "cell_type": "code",
   "execution_count": 2,
   "id": "52c3c1d7-0eb2-4dd1-8bfd-f332081954b0",
   "metadata": {},
   "outputs": [
    {
     "data": {
      "text/plain": [
       "{1: 1, 2: 4, 3: 9, 4: 16, 5: 25, 6: 36, 7: 49, 8: 64, 9: 81, 10: 100}"
      ]
     },
     "execution_count": 2,
     "metadata": {},
     "output_type": "execute_result"
    }
   ],
   "source": [
    "{i : i**2 for i in range(1,11)}"
   ]
  },
  {
   "cell_type": "code",
   "execution_count": 2,
   "id": "523666de-cc7d-48b3-810d-bb2d70e48eac",
   "metadata": {},
   "outputs": [],
   "source": [
    "import math\n",
    "d21={i :math.log10(i) for i in range(1,11)}"
   ]
  },
  {
   "cell_type": "code",
   "execution_count": 9,
   "id": "5de8fe34-4100-434b-845a-f37e6e0d8f4f",
   "metadata": {},
   "outputs": [
    {
     "data": {
      "text/plain": [
       "{'key1': 'value', 'key2': 'value2', 'key3': 'value3', 'key4': 'value4'}"
      ]
     },
     "execution_count": 9,
     "metadata": {},
     "output_type": "execute_result"
    }
   ],
   "source": [
    "d19"
   ]
  },
  {
   "cell_type": "code",
   "execution_count": 10,
   "id": "140ea0a1-8d2a-4aa9-8c27-8eb97874edf6",
   "metadata": {},
   "outputs": [
    {
     "data": {
      "text/plain": [
       "True"
      ]
     },
     "execution_count": 10,
     "metadata": {},
     "output_type": "execute_result"
    }
   ],
   "source": [
    "'key3' in d19 ## This will return if key key3 is present in dictionary(d19)"
   ]
  },
  {
   "cell_type": "code",
   "execution_count": 3,
   "id": "022ef83a-6c95-4317-a56c-e66ca78ec00b",
   "metadata": {},
   "outputs": [
    {
     "data": {
      "text/plain": [
       "{1: 0.0,\n",
       " 2: 0.3010299956639812,\n",
       " 3: 0.47712125471966244,\n",
       " 4: 0.6020599913279624,\n",
       " 5: 0.6989700043360189,\n",
       " 6: 0.7781512503836436,\n",
       " 7: 0.8450980400142568,\n",
       " 8: 0.9030899869919435,\n",
       " 9: 0.9542425094393249,\n",
       " 10: 1.0}"
      ]
     },
     "execution_count": 3,
     "metadata": {},
     "output_type": "execute_result"
    }
   ],
   "source": [
    "d21"
   ]
  },
  {
   "cell_type": "code",
   "execution_count": 4,
   "id": "94f02d7b-dd56-4bf3-bcd0-5fb8f4507e9a",
   "metadata": {},
   "outputs": [
    {
     "name": "stdout",
     "output_type": "stream",
     "text": [
      "0.3010299956639812\n",
      "0.6020599913279624\n",
      "0.7781512503836436\n",
      "0.9030899869919435\n",
      "1.0\n"
     ]
    }
   ],
   "source": [
    "## Print those respective values whose keys are even number.\n",
    "for i in d21.keys():\n",
    "    if i%2==0:\n",
    "        print(d21[i])\n"
   ]
  },
  {
   "cell_type": "code",
   "execution_count": null,
   "id": "4908b9b4-eded-42f9-97b3-c90f358888d4",
   "metadata": {},
   "outputs": [],
   "source": []
  }
 ],
 "metadata": {
  "kernelspec": {
   "display_name": "Python 3 (ipykernel)",
   "language": "python",
   "name": "python3"
  },
  "language_info": {
   "codemirror_mode": {
    "name": "ipython",
    "version": 3
   },
   "file_extension": ".py",
   "mimetype": "text/x-python",
   "name": "python",
   "nbconvert_exporter": "python",
   "pygments_lexer": "ipython3",
   "version": "3.10.8"
  }
 },
 "nbformat": 4,
 "nbformat_minor": 5
}
