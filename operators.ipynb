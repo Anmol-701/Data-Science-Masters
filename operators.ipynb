{
 "cells": [
  {
   "cell_type": "code",
   "execution_count": 1,
   "id": "7ffb8738-b6ed-4f4d-8924-69e454ab30d3",
   "metadata": {},
   "outputs": [
    {
     "data": {
      "text/plain": [
       "20"
      ]
     },
     "execution_count": 1,
     "metadata": {},
     "output_type": "execute_result"
    }
   ],
   "source": [
    "#Arithematic Operator--Used to add two numbers\n",
    "10+ 10"
   ]
  },
  {
   "cell_type": "code",
   "execution_count": 2,
   "id": "e2bf5e95-cd19-4003-89f2-e53419cbae15",
   "metadata": {},
   "outputs": [
    {
     "data": {
      "text/plain": [
       "10"
      ]
     },
     "execution_count": 2,
     "metadata": {},
     "output_type": "execute_result"
    }
   ],
   "source": [
    "20-10 # -- Used to subtract two Numbers"
   ]
  },
  {
   "cell_type": "code",
   "execution_count": 3,
   "id": "a5252b65-d9a0-4f47-8cd2-eb525a67e3bc",
   "metadata": {},
   "outputs": [
    {
     "data": {
      "text/plain": [
       "1"
      ]
     },
     "execution_count": 3,
     "metadata": {},
     "output_type": "execute_result"
    }
   ],
   "source": [
    "#Remainder Operator\n",
    "4%3 #--This will Return the Remainder"
   ]
  },
  {
   "cell_type": "code",
   "execution_count": 4,
   "id": "464f71fd-2f32-455a-8ef3-3817bedeb4fb",
   "metadata": {},
   "outputs": [
    {
     "data": {
      "text/plain": [
       "8"
      ]
     },
     "execution_count": 4,
     "metadata": {},
     "output_type": "execute_result"
    }
   ],
   "source": [
    "#Power Operator\n",
    "2**3  #--This operator is used as a power(**)"
   ]
  },
  {
   "cell_type": "code",
   "execution_count": 5,
   "id": "70d2bad8-9d17-41f6-b0b2-973260eb2ec2",
   "metadata": {},
   "outputs": [
    {
     "data": {
      "text/plain": [
       "1"
      ]
     },
     "execution_count": 5,
     "metadata": {},
     "output_type": "execute_result"
    }
   ],
   "source": [
    "4//3  #This operator is used for Floor Division"
   ]
  },
  {
   "cell_type": "markdown",
   "id": "f572e012-95c1-4545-8e8d-8ec9fa80aa07",
   "metadata": {},
   "source": [
    "### Comparision Operators-This is used to compare two operands .This will return true or false."
   ]
  },
  {
   "cell_type": "code",
   "execution_count": 6,
   "id": "c4ecfb5b-0bd2-49ad-845a-9bd74fa15f95",
   "metadata": {},
   "outputs": [
    {
     "data": {
      "text/plain": [
       "False"
      ]
     },
     "execution_count": 6,
     "metadata": {},
     "output_type": "execute_result"
    }
   ],
   "source": [
    "1>2  "
   ]
  },
  {
   "cell_type": "code",
   "execution_count": 7,
   "id": "030eb570-f035-4bf6-8cf2-4c7c2721776b",
   "metadata": {},
   "outputs": [
    {
     "data": {
      "text/plain": [
       "True"
      ]
     },
     "execution_count": 7,
     "metadata": {},
     "output_type": "execute_result"
    }
   ],
   "source": [
    "1>0"
   ]
  },
  {
   "cell_type": "code",
   "execution_count": 8,
   "id": "da6f87b6-5b0d-4151-94ef-32dc7d5d67ad",
   "metadata": {},
   "outputs": [
    {
     "data": {
      "text/plain": [
       "False"
      ]
     },
     "execution_count": 8,
     "metadata": {},
     "output_type": "execute_result"
    }
   ],
   "source": [
    "1!=1"
   ]
  },
  {
   "cell_type": "code",
   "execution_count": 9,
   "id": "0cf48278-4f3c-4695-9555-de7b15c9b62c",
   "metadata": {},
   "outputs": [
    {
     "data": {
      "text/plain": [
       "True"
      ]
     },
     "execution_count": 9,
     "metadata": {},
     "output_type": "execute_result"
    }
   ],
   "source": [
    "2!=3"
   ]
  },
  {
   "cell_type": "code",
   "execution_count": 10,
   "id": "fd268d0c-b2a8-4a43-9e29-c3a72baf0d64",
   "metadata": {},
   "outputs": [
    {
     "data": {
      "text/plain": [
       "False"
      ]
     },
     "execution_count": 10,
     "metadata": {},
     "output_type": "execute_result"
    }
   ],
   "source": [
    "True and False"
   ]
  },
  {
   "cell_type": "code",
   "execution_count": 12,
   "id": "ec569b46-a1ff-4935-a41c-ceac060b3f0a",
   "metadata": {},
   "outputs": [
    {
     "data": {
      "text/plain": [
       "True"
      ]
     },
     "execution_count": 12,
     "metadata": {},
     "output_type": "execute_result"
    }
   ],
   "source": [
    "True and True"
   ]
  },
  {
   "cell_type": "code",
   "execution_count": 13,
   "id": "fae77734-8aaa-40f7-a89f-2bcd933d7528",
   "metadata": {},
   "outputs": [
    {
     "data": {
      "text/plain": [
       "True"
      ]
     },
     "execution_count": 13,
     "metadata": {},
     "output_type": "execute_result"
    }
   ],
   "source": [
    "True or False"
   ]
  },
  {
   "cell_type": "code",
   "execution_count": 14,
   "id": "bffa5cea-24da-4803-abca-8b4ce3a1a9c1",
   "metadata": {},
   "outputs": [
    {
     "data": {
      "text/plain": [
       "False"
      ]
     },
     "execution_count": 14,
     "metadata": {},
     "output_type": "execute_result"
    }
   ],
   "source": [
    "not True"
   ]
  },
  {
   "cell_type": "code",
   "execution_count": 15,
   "id": "ff1278ec-6f27-40b2-a5f1-7a5920f403c9",
   "metadata": {},
   "outputs": [
    {
     "data": {
      "text/plain": [
       "True"
      ]
     },
     "execution_count": 15,
     "metadata": {},
     "output_type": "execute_result"
    }
   ],
   "source": [
    "not False"
   ]
  },
  {
   "cell_type": "code",
   "execution_count": 16,
   "id": "384d1f84-9066-4ed1-8007-f9fb5c31a534",
   "metadata": {},
   "outputs": [
    {
     "data": {
      "text/plain": [
       "10"
      ]
     },
     "execution_count": 16,
     "metadata": {},
     "output_type": "execute_result"
    }
   ],
   "source": [
    "# Bitwise Operators --To solve a problem it will firstly convert 10 to binary and solve it\n",
    "10 & 10"
   ]
  },
  {
   "cell_type": "code",
   "execution_count": 17,
   "id": "42ee4067-acc0-41e0-89ff-4b91cf7edd07",
   "metadata": {},
   "outputs": [
    {
     "data": {
      "text/plain": [
       "3"
      ]
     },
     "execution_count": 17,
     "metadata": {},
     "output_type": "execute_result"
    }
   ],
   "source": [
    " 23 & 3"
   ]
  },
  {
   "cell_type": "code",
   "execution_count": 18,
   "id": "5535bc7f-b3fb-47d5-ba89-3291290d0864",
   "metadata": {},
   "outputs": [
    {
     "data": {
      "text/plain": [
       "0"
      ]
     },
     "execution_count": 18,
     "metadata": {},
     "output_type": "execute_result"
    }
   ],
   "source": [
    "24 & 5"
   ]
  },
  {
   "cell_type": "code",
   "execution_count": 19,
   "id": "e4b31a54-de3e-44f9-b617-39c6289f3434",
   "metadata": {},
   "outputs": [
    {
     "data": {
      "text/plain": [
       "'0b1010'"
      ]
     },
     "execution_count": 19,
     "metadata": {},
     "output_type": "execute_result"
    }
   ],
   "source": [
    "bin(10)  #By using bin() , we can find the binary of given number."
   ]
  },
  {
   "cell_type": "code",
   "execution_count": 21,
   "id": "8c19bdc5-4636-45f1-899c-6e4ba64cacd4",
   "metadata": {},
   "outputs": [
    {
     "data": {
      "text/plain": [
       "55"
      ]
     },
     "execution_count": 21,
     "metadata": {},
     "output_type": "execute_result"
    }
   ],
   "source": [
    "34 | 23"
   ]
  },
  {
   "cell_type": "code",
   "execution_count": 23,
   "id": "9069151a-c6ff-48aa-8a8f-d966bca11f63",
   "metadata": {},
   "outputs": [
    {
     "data": {
      "text/plain": [
       "-35"
      ]
     },
     "execution_count": 23,
     "metadata": {},
     "output_type": "execute_result"
    }
   ],
   "source": [
    "~34"
   ]
  },
  {
   "cell_type": "code",
   "execution_count": 24,
   "id": "1e808b71-15be-4be6-b7dc-5bced5eceb76",
   "metadata": {},
   "outputs": [
    {
     "data": {
      "text/plain": [
       "'-0b100011'"
      ]
     },
     "execution_count": 24,
     "metadata": {},
     "output_type": "execute_result"
    }
   ],
   "source": [
    "bin(-35)"
   ]
  },
  {
   "cell_type": "code",
   "execution_count": 25,
   "id": "ce4aabe7-318e-4e19-9618-c762ab744891",
   "metadata": {},
   "outputs": [
    {
     "data": {
      "text/plain": [
       "7"
      ]
     },
     "execution_count": 25,
     "metadata": {},
     "output_type": "execute_result"
    }
   ],
   "source": [
    "30>>2"
   ]
  },
  {
   "cell_type": "code",
   "execution_count": 26,
   "id": "b2459ed2-82ca-44a2-a43f-84db97f59709",
   "metadata": {},
   "outputs": [
    {
     "data": {
      "text/plain": [
       "3"
      ]
     },
     "execution_count": 26,
     "metadata": {},
     "output_type": "execute_result"
    }
   ],
   "source": [
    "24>>3"
   ]
  },
  {
   "cell_type": "code",
   "execution_count": 27,
   "id": "ed620e79-0541-43c5-a69e-73391cbde795",
   "metadata": {},
   "outputs": [
    {
     "data": {
      "text/plain": [
       "280"
      ]
     },
     "execution_count": 27,
     "metadata": {},
     "output_type": "execute_result"
    }
   ],
   "source": [
    "35<<3"
   ]
  },
  {
   "cell_type": "code",
   "execution_count": 28,
   "id": "db6989bf-bc7f-4f89-811f-ecfbe3fa1db4",
   "metadata": {},
   "outputs": [],
   "source": [
    "# Assignment Operator --Assignment operators are used to assign values to variables.\n",
    "a = 34"
   ]
  },
  {
   "cell_type": "code",
   "execution_count": 29,
   "id": "08eefc80-fd72-48a8-abec-1f2f2db65d7b",
   "metadata": {},
   "outputs": [
    {
     "data": {
      "text/plain": [
       "33"
      ]
     },
     "execution_count": 29,
     "metadata": {},
     "output_type": "execute_result"
    }
   ],
   "source": [
    "a=a-1\n",
    "a"
   ]
  }
 ],
 "metadata": {
  "kernelspec": {
   "display_name": "Python 3 (ipykernel)",
   "language": "python",
   "name": "python3"
  },
  "language_info": {
   "codemirror_mode": {
    "name": "ipython",
    "version": 3
   },
   "file_extension": ".py",
   "mimetype": "text/x-python",
   "name": "python",
   "nbconvert_exporter": "python",
   "pygments_lexer": "ipython3",
   "version": "3.10.8"
  }
 },
 "nbformat": 4,
 "nbformat_minor": 5
}
